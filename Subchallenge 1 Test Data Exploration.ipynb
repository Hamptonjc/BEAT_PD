{
 "cells": [
  {
   "cell_type": "markdown",
   "metadata": {},
   "source": [
    "# Subchallenge 1 Test Data Exploration"
   ]
  },
  {
   "cell_type": "code",
   "execution_count": 1,
   "metadata": {},
   "outputs": [],
   "source": [
    "import os\n",
    "import sys\n",
    "import glob\n",
    "import numpy as np\n",
    "import pandas as pd"
   ]
  },
  {
   "cell_type": "code",
   "execution_count": 5,
   "metadata": {},
   "outputs": [],
   "source": [
    "# sub challenge IDs\n",
    "sc_ids = pd.read_csv('Data/BEATPDchallenge/BEAT-PD_SC1_OnOff_Submission_Template.csv')"
   ]
  },
  {
   "cell_type": "code",
   "execution_count": 12,
   "metadata": {},
   "outputs": [
    {
     "data": {
      "text/plain": [
       "695"
      ]
     },
     "execution_count": 12,
     "metadata": {},
     "output_type": "execute_result"
    }
   ],
   "source": [
    "# Number of test measurements\n",
    "sc_ids.shape[0]"
   ]
  },
  {
   "cell_type": "code",
   "execution_count": 14,
   "metadata": {},
   "outputs": [],
   "source": [
    "# Sorter program\n",
    "\n",
    "cis_pd = []\n",
    "real_pd_phone = []\n",
    "real_pd_watch = []\n",
    "real_pd_gyro = []\n",
    "not_found = []\n",
    "\n",
    "for id_ in sc_ids['measurement_id']:\n",
    "    if os.path.exists(f'Data/BEATPDchallenge/testing_data-cispd/{id_}.csv'):\n",
    "        cis_pd.append(id_)\n",
    "        \n",
    "    elif os.path.exists(f'Data/BEATPDchallenge/testing_data-realpd/smartphone_accelerometer/{id_}.csv'):\n",
    "        real_pd_phone.append(id_)\n",
    "        \n",
    "    elif os.path.exists(f'Data/BEATPDchallenge/testing_data-realpd/smartwatch_accelerometer/{id_}.csv'):\n",
    "        real_pd_watch.append(id_)\n",
    "        \n",
    "    elif os.path.exists(f'Data/BEATPDchallenge/testing_data-realpd/smartwatch_gyroscope/{id_}.csv'):\n",
    "        real_pd_gyro.append(id_)\n",
    "        \n",
    "    else:\n",
    "        not_found.append(id_)"
   ]
  },
  {
   "cell_type": "code",
   "execution_count": 16,
   "metadata": {},
   "outputs": [
    {
     "data": {
      "text/plain": [
       "0"
      ]
     },
     "execution_count": 16,
     "metadata": {},
     "output_type": "execute_result"
    }
   ],
   "source": [
    "# Check to make sure all measurements were found.\n",
    "len(not_found)"
   ]
  },
  {
   "cell_type": "code",
   "execution_count": 17,
   "metadata": {},
   "outputs": [
    {
     "data": {
      "text/plain": [
       "587"
      ]
     },
     "execution_count": 17,
     "metadata": {},
     "output_type": "execute_result"
    }
   ],
   "source": [
    "# Number of CIS_PD data in test set\n",
    "len(cis_pd)"
   ]
  },
  {
   "cell_type": "code",
   "execution_count": 18,
   "metadata": {},
   "outputs": [
    {
     "data": {
      "text/plain": [
       "91"
      ]
     },
     "execution_count": 18,
     "metadata": {},
     "output_type": "execute_result"
    }
   ],
   "source": [
    "# Number of REAL_PD smartphone accelerometer data in test set\n",
    "len(real_pd_phone)"
   ]
  },
  {
   "cell_type": "code",
   "execution_count": 19,
   "metadata": {},
   "outputs": [
    {
     "data": {
      "text/plain": [
       "17"
      ]
     },
     "execution_count": 19,
     "metadata": {},
     "output_type": "execute_result"
    }
   ],
   "source": [
    "# Number of REAL_PD smartwatch accelerometer data in test set\n",
    "len(real_pd_watch)"
   ]
  },
  {
   "cell_type": "code",
   "execution_count": 20,
   "metadata": {},
   "outputs": [
    {
     "data": {
      "text/plain": [
       "0"
      ]
     },
     "execution_count": 20,
     "metadata": {},
     "output_type": "execute_result"
    }
   ],
   "source": [
    "# Number of REAL_PD smartwatch gyroscope data in test set\n",
    "len(real_pd_gyro)"
   ]
  },
  {
   "cell_type": "code",
   "execution_count": 21,
   "metadata": {},
   "outputs": [
    {
     "data": {
      "text/plain": [
       "108"
      ]
     },
     "execution_count": 21,
     "metadata": {},
     "output_type": "execute_result"
    }
   ],
   "source": [
    "real_pd = real_pd_phone + real_pd_watch + real_pd_gyro\n",
    "len(real_pd)"
   ]
  },
  {
   "cell_type": "code",
   "execution_count": 25,
   "metadata": {},
   "outputs": [
    {
     "name": "stdout",
     "output_type": "stream",
     "text": [
      "Test data is 84.46043165467626 % CIS_PD Data\n"
     ]
    }
   ],
   "source": [
    "print('Test data is', len(cis_pd)/(len(cis_pd)+ len(real_pd))*100,'%', 'CIS_PD Data')"
   ]
  },
  {
   "cell_type": "code",
   "execution_count": 27,
   "metadata": {},
   "outputs": [
    {
     "name": "stdout",
     "output_type": "stream",
     "text": [
      "Test data is 15.53956834532374 % REAL_PD Data\n"
     ]
    }
   ],
   "source": [
    "print('Test data is', len(real_pd)/(len(cis_pd)+ len(real_pd))*100,'%', 'REAL_PD Data')"
   ]
  },
  {
   "cell_type": "code",
   "execution_count": 28,
   "metadata": {},
   "outputs": [
    {
     "name": "stdout",
     "output_type": "stream",
     "text": [
      "Test data is 13.093525179856117 % REAL_PD Phone Data\n"
     ]
    }
   ],
   "source": [
    "print('Test data is', len(real_pd_phone)/(len(cis_pd)+ len(real_pd))*100,'%', 'REAL_PD Phone Data')"
   ]
  },
  {
   "cell_type": "code",
   "execution_count": 29,
   "metadata": {},
   "outputs": [
    {
     "name": "stdout",
     "output_type": "stream",
     "text": [
      "Test data is 2.446043165467626 % REAL_PD Smart Watch Data\n"
     ]
    }
   ],
   "source": [
    "print('Test data is', len(real_pd_watch)/(len(cis_pd)+ len(real_pd))*100,'%', 'REAL_PD Smart Watch Data')"
   ]
  },
  {
   "cell_type": "code",
   "execution_count": 31,
   "metadata": {},
   "outputs": [
    {
     "data": {
      "text/plain": [
       "618"
      ]
     },
     "execution_count": 31,
     "metadata": {},
     "output_type": "execute_result"
    }
   ],
   "source": [
    "path, dirs, files = next(os.walk('Data/BEATPDchallenge/testing_data-cispd/'))\n",
    "total_test_cis_count = len(files)\n",
    "total_test_cis_count"
   ]
  },
  {
   "cell_type": "code",
   "execution_count": 32,
   "metadata": {},
   "outputs": [
    {
     "data": {
      "text/plain": [
       "169"
      ]
     },
     "execution_count": 32,
     "metadata": {},
     "output_type": "execute_result"
    }
   ],
   "source": [
    "path, dirs, files = next(os.walk('Data/BEATPDchallenge/testing_data-realpd/smartphone_accelerometer/'))\n",
    "total_test_real_phone_count = len(files)\n",
    "total_test_real_phone_count"
   ]
  },
  {
   "cell_type": "code",
   "execution_count": 33,
   "metadata": {},
   "outputs": [
    {
     "data": {
      "text/plain": [
       "172"
      ]
     },
     "execution_count": 33,
     "metadata": {},
     "output_type": "execute_result"
    }
   ],
   "source": [
    "path, dirs, files = next(os.walk('Data/BEATPDchallenge/testing_data-realpd/smartwatch_accelerometer/'))\n",
    "total_test_real_watch_count = len(files)\n",
    "total_test_real_watch_count"
   ]
  },
  {
   "cell_type": "code",
   "execution_count": null,
   "metadata": {},
   "outputs": [],
   "source": []
  }
 ],
 "metadata": {
  "kernelspec": {
   "display_name": "Python 3",
   "language": "python",
   "name": "python3"
  },
  "language_info": {
   "codemirror_mode": {
    "name": "ipython",
    "version": 3
   },
   "file_extension": ".py",
   "mimetype": "text/x-python",
   "name": "python",
   "nbconvert_exporter": "python",
   "pygments_lexer": "ipython3",
   "version": "3.6.10"
  }
 },
 "nbformat": 4,
 "nbformat_minor": 4
}
