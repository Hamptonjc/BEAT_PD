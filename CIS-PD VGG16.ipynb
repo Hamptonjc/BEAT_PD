{
 "cells": [
  {
   "cell_type": "markdown",
   "metadata": {},
   "source": [
    "# VGG16 on CIS-PD Spectrograms"
   ]
  },
  {
   "cell_type": "code",
   "execution_count": 1,
   "metadata": {},
   "outputs": [],
   "source": [
    "# Imports\n",
    "import os\n",
    "import sys\n",
    "import time\n",
    "import numpy as np\n",
    "import pandas as pd\n",
    "import matplotlib.pyplot as plt\n",
    "%matplotlib inline\n",
    "\n",
    "import torch\n",
    "import torch.nn as nn\n",
    "import torchvision as tv\n",
    "import torchvision.transforms.functional as TF\n",
    "from torchvision import transforms, models\n",
    "from torch.utils import data\n",
    "from torch.utils.data import DataLoader\n",
    "from PIL import Image\n",
    "import glob\n",
    "import random"
   ]
  },
  {
   "cell_type": "code",
   "execution_count": 2,
   "metadata": {},
   "outputs": [],
   "source": [
    "# Directories\n",
    "root_dir = 'Data/BEATPDchallenge/'\n",
    "spec_dir = os.path.join(root_dir, 'CIS-PD Spectrograms/')"
   ]
  },
  {
   "cell_type": "markdown",
   "metadata": {},
   "source": [
    "## Dataset"
   ]
  },
  {
   "cell_type": "code",
   "execution_count": 3,
   "metadata": {},
   "outputs": [],
   "source": [
    "# Making lists with all spectrograms as np arrays\n",
    "spec_0 = []\n",
    "for f in glob.iglob(spec_dir + '/Medication State 0/*.png'):\n",
    "    spec_0.append(np.asarray(Image.open(f)))\n",
    "    \n",
    "spec_1 = []\n",
    "for f in glob.iglob(spec_dir + '/Medication State 1/*.png'):\n",
    "    spec_1.append(np.asarray(Image.open(f)))\n",
    "    \n",
    "spec_2 = []\n",
    "for f in glob.iglob(spec_dir + '/Medication State 2/*.png'):\n",
    "    spec_2.append(np.asarray(Image.open(f)))\n",
    "    \n",
    "spec_3 = []\n",
    "for f in glob.iglob(spec_dir + '/Medication State 3/*.png'):\n",
    "    spec_3.append(np.asarray(Image.open(f)))\n",
    "    \n",
    "spec_4 = []\n",
    "for f in glob.iglob(spec_dir + '/Medication State 4/*.png'):\n",
    "    spec_4.append(np.asarray(Image.open(f)))"
   ]
  },
  {
   "cell_type": "code",
   "execution_count": 4,
   "metadata": {},
   "outputs": [],
   "source": [
    "# Functions to prepare spectrograms for model\n",
    "\n",
    "def crop_center(arr,cropx,cropy):\n",
    "    y,x,c = arr.shape\n",
    "    startx = x//2 - cropx//2\n",
    "    starty = y//2 - cropy//2    \n",
    "    return arr[starty:starty+cropy, startx:startx+cropx, :]\n",
    "\n",
    "def drop_4th_channel(arr):\n",
    "    return arr[:,:,:3]\n",
    "\n",
    "def SpecPrep(spec):\n",
    "    spec = crop_center(spec, cropx=670, cropy=272)\n",
    "    spec = drop_4th_channel(spec)\n",
    "    return spec"
   ]
  },
  {
   "cell_type": "code",
   "execution_count": 5,
   "metadata": {},
   "outputs": [],
   "source": [
    "# Preparing spectrograms in each class\n",
    "for i, spec in enumerate(spec_0):\n",
    "    spec_0[i] = SpecPrep(spec) \n",
    "    \n",
    "for i, spec in enumerate(spec_1):\n",
    "    spec_1[i] = SpecPrep(spec) \n",
    "    \n",
    "for i, spec in enumerate(spec_2):\n",
    "    spec_2[i] = SpecPrep(spec)\n",
    "    \n",
    "for i, spec in enumerate(spec_3):\n",
    "    spec_3[i] = SpecPrep(spec)\n",
    "\n",
    "for i, spec in enumerate(spec_4):\n",
    "    spec_4[i] = SpecPrep(spec) "
   ]
  },
  {
   "cell_type": "code",
   "execution_count": 6,
   "metadata": {},
   "outputs": [],
   "source": [
    "# Making lists with all of the measurement IDs\n",
    "id_list_0 = list(map(os.path.basename,glob.iglob(spec_dir + '/Medication State 0/*.png')))\n",
    "for i, ID in enumerate(id_list_0):\n",
    "    id_list_0[i] = os.path.splitext(ID)[0]\n",
    "    \n",
    "id_list_1 = list(map(os.path.basename,glob.iglob(spec_dir + '/Medication State 1/*.png')))\n",
    "for i, ID in enumerate(id_list_1):\n",
    "    id_list_0[i] = os.path.splitext(ID)[0]\n",
    "    \n",
    "id_list_2 = list(map(os.path.basename,glob.iglob(spec_dir + '/Medication State 2/*.png')))\n",
    "for i, ID in enumerate(id_list_2):\n",
    "    id_list_0[i] = os.path.splitext(ID)[0]\n",
    "    \n",
    "id_list_3 = list(map(os.path.basename,glob.iglob(spec_dir + '/Medication State 3/*.png')))\n",
    "for i, ID in enumerate(id_list_3):\n",
    "    id_list_0[i] = os.path.splitext(ID)[0]\n",
    "    \n",
    "id_list_4 = list(map(os.path.basename,glob.iglob(spec_dir + '/Medication State 4/*.png')))\n",
    "for i, ID in enumerate(id_list_4):\n",
    "    id_list_0[i] = os.path.splitext(ID)[0]\n",
    "    "
   ]
  },
  {
   "cell_type": "code",
   "execution_count": 7,
   "metadata": {},
   "outputs": [],
   "source": [
    "# Storing data as tuple with their respective measurement_id and label\n",
    "def AttachMetaData(spec_list, id_list, medstate):\n",
    "    for i, (spec, ID) in enumerate(zip(spec_list, id_list)):\n",
    "        spec_list[i] = (spec, ID, medstate)"
   ]
  },
  {
   "cell_type": "code",
   "execution_count": 8,
   "metadata": {},
   "outputs": [],
   "source": [
    "AttachMetaData(spec_list=spec_0, id_list=id_list_0, medstate=0)\n",
    "AttachMetaData(spec_list=spec_1, id_list=id_list_1, medstate=1)\n",
    "AttachMetaData(spec_list=spec_2, id_list=id_list_2, medstate=2)\n",
    "AttachMetaData(spec_list=spec_3, id_list=id_list_3, medstate=3)\n",
    "AttachMetaData(spec_list=spec_4, id_list=id_list_4, medstate=4)"
   ]
  },
  {
   "cell_type": "code",
   "execution_count": 9,
   "metadata": {},
   "outputs": [],
   "source": [
    "dataset = spec_0 + spec_1 + spec_2 + spec_3 + spec_4"
   ]
  },
  {
   "cell_type": "markdown",
   "metadata": {},
   "source": [
    "## Test Train Split"
   ]
  },
  {
   "cell_type": "code",
   "execution_count": 10,
   "metadata": {},
   "outputs": [],
   "source": [
    "# Shuffle dataset\n",
    "random.shuffle(dataset)"
   ]
  },
  {
   "cell_type": "code",
   "execution_count": 11,
   "metadata": {},
   "outputs": [
    {
     "data": {
      "text/plain": [
       "330"
      ]
     },
     "execution_count": 11,
     "metadata": {},
     "output_type": "execute_result"
    }
   ],
   "source": [
    "# Calculate a 20% test size\n",
    "int(len(dataset) * 0.2)"
   ]
  },
  {
   "cell_type": "code",
   "execution_count": 12,
   "metadata": {},
   "outputs": [],
   "source": [
    "# Split for training and testing (indicies are upto but not inclusive so we start at 331)\n",
    "train = dataset[331:]\n",
    "val = dataset[:331]"
   ]
  },
  {
   "cell_type": "code",
   "execution_count": 15,
   "metadata": {},
   "outputs": [
    {
     "name": "stdout",
     "output_type": "stream",
     "text": [
      "Training size: 1056\n",
      "Validation size: 265\n",
      "Test size: 331\n"
     ]
    }
   ],
   "source": [
    "print('Training size:',len(train))\n",
    "print('Validation size:',len(val))"
   ]
  },
  {
   "cell_type": "markdown",
   "metadata": {},
   "source": [
    "## Pytorch Custom Dataset"
   ]
  },
  {
   "cell_type": "code",
   "execution_count": 16,
   "metadata": {},
   "outputs": [],
   "source": [
    "# Build PyTorch dataset\n",
    "class SpecDataset(data.Dataset):\n",
    "    def __init__(self, dataset):\n",
    "        self.dataset = dataset\n",
    "        \n",
    "    def transform(self,spec, label):\n",
    "        spec = TF.to_tensor(spec)\n",
    "        label = torch.tensor(label)\n",
    "        return spec, label\n",
    "        \n",
    "    def __getitem__(self, index):\n",
    "        spec = dataset[index][0]\n",
    "        label = dataset[index][2]\n",
    "        spec, label = self.transform(spec, label)\n",
    "        return spec, label\n",
    "    \n",
    "    def __len__(self):\n",
    "        return len(self.dataset)"
   ]
  },
  {
   "cell_type": "code",
   "execution_count": 17,
   "metadata": {},
   "outputs": [],
   "source": [
    "# Define datasets\n",
    "train_set = SpecDataset(train)\n",
    "val_set = SpecDataset(val)"
   ]
  },
  {
   "cell_type": "code",
   "execution_count": 18,
   "metadata": {},
   "outputs": [],
   "source": [
    "# Define dataloaders\n",
    "train_loader = DataLoader(train_set,batch_size=10, shuffle=True)\n",
    "val_loader = DataLoader(val_set,batch_size=10, shuffle=True)"
   ]
  },
  {
   "cell_type": "markdown",
   "metadata": {},
   "source": [
    "# VGG16"
   ]
  },
  {
   "cell_type": "code",
   "execution_count": 19,
   "metadata": {},
   "outputs": [],
   "source": [
    "# Load instance of VGG16\n",
    "torch.manual_seed(314)\n",
    "VGG16 = models.vgg16(pretrained=True)"
   ]
  },
  {
   "cell_type": "code",
   "execution_count": 20,
   "metadata": {},
   "outputs": [
    {
     "data": {
      "text/plain": [
       "Linear(in_features=4096, out_features=1000, bias=True)"
      ]
     },
     "execution_count": 20,
     "metadata": {},
     "output_type": "execute_result"
    }
   ],
   "source": [
    "# View final classifer section\n",
    "VGG16.classifier[6]"
   ]
  },
  {
   "cell_type": "code",
   "execution_count": 21,
   "metadata": {},
   "outputs": [],
   "source": [
    "# Turn of gradients for VGG16 parameters\n",
    "for param in VGG16.parameters():\n",
    "    param.requires_grad = False"
   ]
  },
  {
   "cell_type": "code",
   "execution_count": 22,
   "metadata": {},
   "outputs": [],
   "source": [
    "# Modify last layer to have an output size of 5 (for our 5 classes)\n",
    "torch.manual_seed(314)\n",
    "VGG16.classifier[6] = nn.Linear(4096,5)"
   ]
  },
  {
   "cell_type": "code",
   "execution_count": 23,
   "metadata": {},
   "outputs": [],
   "source": [
    "# Define a cross entropy loss function and an Adam optimizer\n",
    "loss_func = nn.CrossEntropyLoss()\n",
    "optimizer = torch.optim.Adam(VGG16.classifier[6].parameters(), lr=0.001)"
   ]
  },
  {
   "cell_type": "markdown",
   "metadata": {},
   "source": [
    "# Training & Validation"
   ]
  },
  {
   "cell_type": "code",
   "execution_count": 24,
   "metadata": {
    "scrolled": true
   },
   "outputs": [
    {
     "name": "stdout",
     "output_type": "stream",
     "text": [
      "Epoch: 1/4 || Batch: 30 || Training Loss: 1.1579830646514893\n",
      "Epoch: 1/4 || Batch: 60 || Training Loss: 1.3448469638824463\n",
      "Epoch: 1/4 || Batch: 90 || Training Loss: 1.2265218496322632\n",
      "Epoch: 2/4 || Batch: 30 || Training Loss: 1.1772958040237427\n",
      "Epoch: 2/4 || Batch: 60 || Training Loss: 0.9876634478569031\n",
      "Epoch: 2/4 || Batch: 90 || Training Loss: 1.8646278381347656\n",
      "Epoch: 3/4 || Batch: 30 || Training Loss: 0.95521479845047\n",
      "Epoch: 3/4 || Batch: 60 || Training Loss: 0.9059469103813171\n",
      "Epoch: 3/4 || Batch: 90 || Training Loss: 1.5063749551773071\n",
      "Epoch: 4/4 || Batch: 30 || Training Loss: 1.33798348903656\n",
      "Epoch: 4/4 || Batch: 60 || Training Loss: 1.5488826036453247\n",
      "Epoch: 4/4 || Batch: 90 || Training Loss: 1.2083046436309814\n",
      "\n",
      "Training Complete! Duration: 117.2980138818423 minutes.\n"
     ]
    }
   ],
   "source": [
    "start_time = time.time()\n",
    "\n",
    "epochs = 4\n",
    "\n",
    "train_losses = []\n",
    "val_losses = []\n",
    "train_correct = []\n",
    "val_correct = []\n",
    "\n",
    "for i in range(epochs):\n",
    "    \n",
    "    trn_corr = 0\n",
    "    val_corr = 0\n",
    "    \n",
    "##################### TRAINING ########################\n",
    "\n",
    "    for batch, (X_train, y_train) in enumerate(train_loader):\n",
    "        \n",
    "        batch += 1\n",
    "        \n",
    "        # Apply model\n",
    "        output = VGG16(X_train)\n",
    "        loss = loss_func(output, y_train)\n",
    "        \n",
    "        # Tally Correct Predictions\n",
    "        train_predicted = torch.max(output.data, 1)[1] # max value of output dim=1& [1] gives index\n",
    "        batch_corr = (train_predicted == y_train).sum()# sums when predicted class is true class\n",
    "        trn_corr += batch_corr # add to log of correct training\n",
    "        \n",
    "        #Backpropogation\n",
    "        optimizer.zero_grad()\n",
    "        loss.backward()\n",
    "        optimizer.step()\n",
    "        \n",
    "        # Logging the loss\n",
    "        if batch%30 == 0:\n",
    "            print(f'Epoch: {i+1}/{epochs} || Batch: {batch} || Training Loss: {loss.item()}')\n",
    "            \n",
    "    train_losses.append(loss)\n",
    "    train_correct.append(trn_corr)\n",
    "    \n",
    "##################### VALIDATION ########################\n",
    "\n",
    "    with torch.no_grad():\n",
    "        for batch, (X_val, y_label) in enumerate(val_loader):\n",
    "            \n",
    "            # Apply Model\n",
    "            val_output = VGG16(X_val)\n",
    "        \n",
    "            # Tally Correct Predictions\n",
    "            val_predicted = torch.max(val_output.data, 1)[1]\n",
    "            val_corr += (val_predicted == y_label).sum()\n",
    "            \n",
    "    loss = loss_func(val_output, y_label)\n",
    "    val_losses.append(loss)\n",
    "    val_correct.append(val_corr)\n",
    "        \n",
    "        \n",
    "print(f'\\nTraining Complete! Duration: {(time.time() - start_time)/60} minutes.')"
   ]
  },
  {
   "cell_type": "markdown",
   "metadata": {},
   "source": [
    "## Evaluation"
   ]
  },
  {
   "cell_type": "code",
   "execution_count": 25,
   "metadata": {},
   "outputs": [],
   "source": [
    "plt.style.use('ggplot')"
   ]
  },
  {
   "cell_type": "code",
   "execution_count": 26,
   "metadata": {},
   "outputs": [
    {
     "data": {
      "image/png": "[encoded data removed]",
      "text/plain": [
       "<Figure size 432x288 with 1 Axes>"
      ]
     },
     "metadata": {},
     "output_type": "display_data"
    }
   ],
   "source": [
    "plt.plot(train_losses, label='Training Loss')\n",
    "plt.plot(val_losses, label='Validation Loss')\n",
    "plt.title('Loss After Epoch')\n",
    "plt.xlabel('Epoch')\n",
    "plt.ylabel('Loss')\n",
    "plt.legend();"
   ]
  },
  {
   "cell_type": "code",
   "execution_count": 59,
   "metadata": {},
   "outputs": [
    {
     "data": {
      "image/png": "[encoded data removed]",
      "text/plain": [
       "<Figure size 432x288 with 1 Axes>"
      ]
     },
     "metadata": {
      "needs_background": "light"
     },
     "output_type": "display_data"
    }
   ],
   "source": [
    "plt.plot([(t.item()/len(train))*100 for t in train_correct], label='Training Accuracy')\n",
    "plt.plot([(t.item()/len(val))*100 for t in val_correct], label='Validation Accuracy')\n",
    "plt.xlabel('Epoch')\n",
    "plt.ylabel('Accuracy (%)')\n",
    "plt.title('Accuracy After Epoch')\n",
    "plt.legend();"
   ]
  },
  {
   "cell_type": "code",
   "execution_count": 17,
   "metadata": {},
   "outputs": [],
   "source": [
    "a = torch.randn(2, 3)"
   ]
  },
  {
   "cell_type": "code",
   "execution_count": 18,
   "metadata": {},
   "outputs": [
    {
     "data": {
      "text/plain": [
       "tensor([[-1.7285,  1.0669, -0.1574],\n",
       "        [ 0.6549, -0.5158,  0.0885]])"
      ]
     },
     "execution_count": 18,
     "metadata": {},
     "output_type": "execute_result"
    }
   ],
   "source": [
    "a"
   ]
  },
  {
   "cell_type": "code",
   "execution_count": null,
   "metadata": {},
   "outputs": [],
   "source": []
  },
  {
   "cell_type": "code",
   "execution_count": 22,
   "metadata": {},
   "outputs": [
    {
     "data": {
      "text/plain": [
       "torch.return_types.max(\n",
       "values=tensor([0.6549, 1.0669, 0.0885]),\n",
       "indices=tensor([1, 0, 1]))"
      ]
     },
     "execution_count": 22,
     "metadata": {},
     "output_type": "execute_result"
    }
   ],
   "source": [
    "torch.max(a, 0)#[1]"
   ]
  },
  {
   "cell_type": "code",
   "execution_count": null,
   "metadata": {},
   "outputs": [],
   "source": []
  }
 ],
 "metadata": {
  "kernelspec": {
   "display_name": "Python 3",
   "language": "python",
   "name": "python3"
  },
  "language_info": {
   "codemirror_mode": {
    "name": "ipython",
    "version": 3
   },
   "file_extension": ".py",
   "mimetype": "text/x-python",
   "name": "python",
   "nbconvert_exporter": "python",
   "pygments_lexer": "ipython3",
   "version": "3.6.10"
  }
 },
 "nbformat": 4,
 "nbformat_minor": 2
}
