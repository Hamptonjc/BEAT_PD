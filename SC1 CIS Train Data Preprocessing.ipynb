{
 "cells": [
  {
   "cell_type": "markdown",
   "metadata": {},
   "source": [
    "# CIS-PD Data Preprocessing V3"
   ]
  },
  {
   "cell_type": "code",
   "execution_count": 176,
   "metadata": {},
   "outputs": [],
   "source": [
    "# Imports\n",
    "import os\n",
    "import pandas as pd\n",
    "import numpy as np\n",
    "import matplotlib.pyplot as plt\n",
    "%matplotlib inline\n",
    "import sklearn\n",
    "from tqdm import tqdm\n",
    "import librosa\n",
    "import librosa.display\n",
    "from scipy.fftpack import fft\n",
    "from scipy.signal import get_window\n",
    "from numba import jit\n",
    "import torch\n",
    "from torch.utils import data"
   ]
  },
  {
   "cell_type": "code",
   "execution_count": 6,
   "metadata": {},
   "outputs": [
    {
     "data": {
      "text/plain": [
       "['REAL-PD_Test_Data_IDs.csv',\n",
       " 'training_data-cispd',\n",
       " 'CIS-PD Spectrograms',\n",
       " '.DS_Store',\n",
       " 'data_labels-realpd',\n",
       " 'testing_data-cispd',\n",
       " 'clinical_data-cispd',\n",
       " 'Samples For Synthetic Data',\n",
       " 'zz_sources',\n",
       " 'ancillary_data-cispd',\n",
       " 'testing_data-realpd',\n",
       " 'training_data-realpd',\n",
       " 'ancillary_data-realpd',\n",
       " 'BEAT-PD_Challenge_Data_Dictionary.csv',\n",
       " 'CIS-PD_Test_Data_IDs.csv',\n",
       " 'data_labels-cispd',\n",
       " 'clinical_data-realpd',\n",
       " 'BeatPDRealPDupdated',\n",
       " 'BEAT-PD_SC1_OnOff_Submission_Template.csv']"
      ]
     },
     "execution_count": 6,
     "metadata": {},
     "output_type": "execute_result"
    }
   ],
   "source": [
    "#View data directory\n",
    "os.listdir('Data/BEATPDchallenge/')"
   ]
  },
  {
   "cell_type": "code",
   "execution_count": 7,
   "metadata": {},
   "outputs": [],
   "source": [
    "# Create data directory path\n",
    "datadir = 'Data/BEATPDchallenge/'"
   ]
  },
  {
   "cell_type": "code",
   "execution_count": 8,
   "metadata": {},
   "outputs": [],
   "source": [
    "# load cis-pd labels\n",
    "labels = pd.read_csv(datadir + 'data_labels-cispd/CIS-PD_Training_Data_IDs_Labels.csv')"
   ]
  },
  {
   "cell_type": "code",
   "execution_count": 9,
   "metadata": {},
   "outputs": [
    {
     "data": {
      "text/html": [
       "<div>\n",
       "<style scoped>\n",
       "    .dataframe tbody tr th:only-of-type {\n",
       "        vertical-align: middle;\n",
       "    }\n",
       "\n",
       "    .dataframe tbody tr th {\n",
       "        vertical-align: top;\n",
       "    }\n",
       "\n",
       "    .dataframe thead th {\n",
       "        text-align: right;\n",
       "    }\n",
       "</style>\n",
       "<table border=\"1\" class=\"dataframe\">\n",
       "  <thead>\n",
       "    <tr style=\"text-align: right;\">\n",
       "      <th></th>\n",
       "      <th>measurement_id</th>\n",
       "      <th>subject_id</th>\n",
       "      <th>on_off</th>\n",
       "      <th>dyskinesia</th>\n",
       "      <th>tremor</th>\n",
       "    </tr>\n",
       "  </thead>\n",
       "  <tbody>\n",
       "    <tr>\n",
       "      <th>0</th>\n",
       "      <td>cc7b822c-e310-46f0-a8ea-98c95fdb67a1</td>\n",
       "      <td>1004</td>\n",
       "      <td>1.0</td>\n",
       "      <td>1.0</td>\n",
       "      <td>1.0</td>\n",
       "    </tr>\n",
       "    <tr>\n",
       "      <th>1</th>\n",
       "      <td>5163afe8-a6b0-4ea4-b2ba-9b4501dd5912</td>\n",
       "      <td>1004</td>\n",
       "      <td>0.0</td>\n",
       "      <td>0.0</td>\n",
       "      <td>0.0</td>\n",
       "    </tr>\n",
       "    <tr>\n",
       "      <th>2</th>\n",
       "      <td>5cf68c8e-0b7a-4b73-ad4f-015c7a20fb5a</td>\n",
       "      <td>1004</td>\n",
       "      <td>1.0</td>\n",
       "      <td>1.0</td>\n",
       "      <td>1.0</td>\n",
       "    </tr>\n",
       "    <tr>\n",
       "      <th>3</th>\n",
       "      <td>fb188ae2-2173-4137-9236-19a137a402c2</td>\n",
       "      <td>1004</td>\n",
       "      <td>3.0</td>\n",
       "      <td>3.0</td>\n",
       "      <td>3.0</td>\n",
       "    </tr>\n",
       "    <tr>\n",
       "      <th>4</th>\n",
       "      <td>19a3e9ea-fce1-40b7-9457-2618970beb7b</td>\n",
       "      <td>1004</td>\n",
       "      <td>1.0</td>\n",
       "      <td>1.0</td>\n",
       "      <td>1.0</td>\n",
       "    </tr>\n",
       "  </tbody>\n",
       "</table>\n",
       "</div>"
      ],
      "text/plain": [
       "                         measurement_id  subject_id  on_off  dyskinesia  \\\n",
       "0  cc7b822c-e310-46f0-a8ea-98c95fdb67a1        1004     1.0         1.0   \n",
       "1  5163afe8-a6b0-4ea4-b2ba-9b4501dd5912        1004     0.0         0.0   \n",
       "2  5cf68c8e-0b7a-4b73-ad4f-015c7a20fb5a        1004     1.0         1.0   \n",
       "3  fb188ae2-2173-4137-9236-19a137a402c2        1004     3.0         3.0   \n",
       "4  19a3e9ea-fce1-40b7-9457-2618970beb7b        1004     1.0         1.0   \n",
       "\n",
       "   tremor  \n",
       "0     1.0  \n",
       "1     0.0  \n",
       "2     1.0  \n",
       "3     3.0  \n",
       "4     1.0  "
      ]
     },
     "execution_count": 9,
     "metadata": {},
     "output_type": "execute_result"
    }
   ],
   "source": [
    "# view head of labels\n",
    "labels.head()"
   ]
  },
  {
   "cell_type": "code",
   "execution_count": 235,
   "metadata": {},
   "outputs": [
    {
     "name": "stderr",
     "output_type": "stream",
     "text": [
      "100%|██████████| 1858/1858 [00:58<00:00, 31.78it/s]\n"
     ]
    }
   ],
   "source": [
    "# Create a python list of the cis-pd time series\n",
    "measurements = []\n",
    "\n",
    "for measurement in tqdm(labels['measurement_id']):\n",
    "    measurements.append(pd.read_csv(os.path.join(datadir,'training_data-cispd/',\n",
    "                                                 measurement + '.csv')))"
   ]
  },
  {
   "cell_type": "code",
   "execution_count": 236,
   "metadata": {},
   "outputs": [],
   "source": [
    "for i, measurement in enumerate(measurements):\n",
    "    measurements[i] = measurements[i].drop(columns='Timestamp')"
   ]
  },
  {
   "cell_type": "markdown",
   "metadata": {},
   "source": [
    "# Preprocessing"
   ]
  },
  {
   "cell_type": "code",
   "execution_count": 237,
   "metadata": {},
   "outputs": [],
   "source": [
    "# pad with 0's for measurements less than 20 minutes and trim measurements more than 20 minutes\n",
    "def PrepTS(measurement):\n",
    "    if measurement.index[-1] < 60000:\n",
    "        pad_size = 60000 - measurement.index[-1]\n",
    "        pre_pad_size = pad_size//2\n",
    "        post_pad_size = pad_size//2\n",
    "        pre_pad = pd.DataFrame(np.zeros((pre_pad_size, 3)),columns=['X', 'Y', 'Z'])\n",
    "        post_pad = pd.DataFrame(np.zeros((post_pad_size, 3)),columns=['X', 'Y', 'Z'])\n",
    "        measurement = pd.concat([measurement, post_pad]).reset_index(drop=True)\n",
    "        measurement = pd.concat([pre_pad, measurement]).reset_index(drop=True)\n",
    "        \n",
    "    elif measurement.index[-1] > 60000:\n",
    "        measurement = measurement[:60001]\n",
    "        \n",
    "    return measurement"
   ]
  },
  {
   "cell_type": "code",
   "execution_count": 238,
   "metadata": {},
   "outputs": [],
   "source": [
    "for i, measurement in enumerate(measurements):\n",
    "    measurements[i] = PrepTS(measurement)"
   ]
  },
  {
   "cell_type": "code",
   "execution_count": 239,
   "metadata": {},
   "outputs": [],
   "source": [
    "# function to take the center ten minutes of time series\n",
    "\n",
    "def Center10(df):\n",
    "    center = df.index[-1]//2\n",
    "    return df[center-15000:center+15000] # 15000 rows => 5 minutes"
   ]
  },
  {
   "cell_type": "code",
   "execution_count": 240,
   "metadata": {},
   "outputs": [
    {
     "name": "stderr",
     "output_type": "stream",
     "text": [
      "100%|██████████| 1858/1858 [00:00<00:00, 13157.26it/s]\n"
     ]
    }
   ],
   "source": [
    "# python list containing the center 10 minute time series\n",
    "center10df = []\n",
    "\n",
    "for df in tqdm(measurements):\n",
    "    center10df.append(Center10(df))"
   ]
  },
  {
   "cell_type": "code",
   "execution_count": 241,
   "metadata": {},
   "outputs": [],
   "source": [
    "# Reset indexes\n",
    "\n",
    "for i, df in enumerate(center10df):\n",
    "    center10df[i] = df.reset_index(drop=True)"
   ]
  },
  {
   "cell_type": "code",
   "execution_count": 242,
   "metadata": {},
   "outputs": [],
   "source": [
    "# Reset label indexes\n",
    "\n",
    "labels.reset_index(drop=True, inplace=True)"
   ]
  },
  {
   "cell_type": "code",
   "execution_count": 243,
   "metadata": {},
   "outputs": [
    {
     "data": {
      "text/plain": [
       "1858"
      ]
     },
     "execution_count": 243,
     "metadata": {},
     "output_type": "execute_result"
    }
   ],
   "source": [
    "# Number of labels\n",
    "labels.shape[0]"
   ]
  },
  {
   "cell_type": "code",
   "execution_count": 244,
   "metadata": {},
   "outputs": [
    {
     "data": {
      "text/plain": [
       "1858"
      ]
     },
     "execution_count": 244,
     "metadata": {},
     "output_type": "execute_result"
    }
   ],
   "source": [
    "# Number of time series\n",
    "len(center10df)"
   ]
  },
  {
   "cell_type": "markdown",
   "metadata": {},
   "source": [
    "## On vs Off Medication"
   ]
  },
  {
   "cell_type": "code",
   "execution_count": 245,
   "metadata": {},
   "outputs": [],
   "source": [
    "# Adding Metadata to df's\n",
    "\n",
    "for df, id_ in zip(center10df, labels['measurement_id']):\n",
    "                   df.measurement_id = id_\n",
    "        \n",
    "for df, subject in zip(center10df, labels['subject_id']):\n",
    "                   df.subject_id = subject\n",
    "        \n",
    "for df, dysk in zip(center10df, labels['dyskinesia']):\n",
    "                   df.dyskinesia = dysk\n",
    "        \n",
    "for df, trem in zip(center10df, labels['tremor']):\n",
    "                   df.tremor = trem"
   ]
  },
  {
   "cell_type": "code",
   "execution_count": 246,
   "metadata": {},
   "outputs": [],
   "source": [
    "# Sort center 10 min time series into each of their corresponding medication states\n",
    "\n",
    "ts_0 = []  # time series w/ medication state 0\n",
    "ts_1 = []  # time series w/ medication state 1\n",
    "ts_2 = []  # time series w/ medication state 2\n",
    "ts_3 = []  # time series w/ medication state 3\n",
    "ts_4 = []  # time series w/ medication state 4\n",
    "\n",
    "for index in labels.index[labels['on_off'] == 0.0].tolist():\n",
    "    ts_0.append(center10df[index])\n",
    "\n",
    "for index in labels.index[labels['on_off'] == 1.0].tolist():\n",
    "    ts_1.append(center10df[index])\n",
    "    \n",
    "for index in labels.index[labels['on_off'] == 2.0].tolist():\n",
    "    ts_2.append(center10df[index])\n",
    "    \n",
    "for index in labels.index[labels['on_off'] == 3.0].tolist():\n",
    "    ts_3.append(center10df[index])\n",
    "    \n",
    "for index in labels.index[labels['on_off'] == 4.0].tolist():\n",
    "    ts_4.append(center10df[index])"
   ]
  },
  {
   "cell_type": "code",
   "execution_count": 10,
   "metadata": {},
   "outputs": [
    {
     "data": {
      "text/html": [
       "<div>\n",
       "<style scoped>\n",
       "    .dataframe tbody tr th:only-of-type {\n",
       "        vertical-align: middle;\n",
       "    }\n",
       "\n",
       "    .dataframe tbody tr th {\n",
       "        vertical-align: top;\n",
       "    }\n",
       "\n",
       "    .dataframe thead th {\n",
       "        text-align: right;\n",
       "    }\n",
       "</style>\n",
       "<table border=\"1\" class=\"dataframe\">\n",
       "  <thead>\n",
       "    <tr style=\"text-align: right;\">\n",
       "      <th></th>\n",
       "      <th>measurement_id</th>\n",
       "      <th>subject_id</th>\n",
       "      <th>on_off</th>\n",
       "      <th>dyskinesia</th>\n",
       "      <th>tremor</th>\n",
       "    </tr>\n",
       "  </thead>\n",
       "  <tbody>\n",
       "    <tr>\n",
       "      <th>0</th>\n",
       "      <td>cc7b822c-e310-46f0-a8ea-98c95fdb67a1</td>\n",
       "      <td>1004</td>\n",
       "      <td>1.0</td>\n",
       "      <td>1.0</td>\n",
       "      <td>1.0</td>\n",
       "    </tr>\n",
       "    <tr>\n",
       "      <th>1</th>\n",
       "      <td>5163afe8-a6b0-4ea4-b2ba-9b4501dd5912</td>\n",
       "      <td>1004</td>\n",
       "      <td>0.0</td>\n",
       "      <td>0.0</td>\n",
       "      <td>0.0</td>\n",
       "    </tr>\n",
       "    <tr>\n",
       "      <th>2</th>\n",
       "      <td>5cf68c8e-0b7a-4b73-ad4f-015c7a20fb5a</td>\n",
       "      <td>1004</td>\n",
       "      <td>1.0</td>\n",
       "      <td>1.0</td>\n",
       "      <td>1.0</td>\n",
       "    </tr>\n",
       "    <tr>\n",
       "      <th>3</th>\n",
       "      <td>fb188ae2-2173-4137-9236-19a137a402c2</td>\n",
       "      <td>1004</td>\n",
       "      <td>3.0</td>\n",
       "      <td>3.0</td>\n",
       "      <td>3.0</td>\n",
       "    </tr>\n",
       "    <tr>\n",
       "      <th>4</th>\n",
       "      <td>19a3e9ea-fce1-40b7-9457-2618970beb7b</td>\n",
       "      <td>1004</td>\n",
       "      <td>1.0</td>\n",
       "      <td>1.0</td>\n",
       "      <td>1.0</td>\n",
       "    </tr>\n",
       "  </tbody>\n",
       "</table>\n",
       "</div>"
      ],
      "text/plain": [
       "                         measurement_id  subject_id  on_off  dyskinesia  \\\n",
       "0  cc7b822c-e310-46f0-a8ea-98c95fdb67a1        1004     1.0         1.0   \n",
       "1  5163afe8-a6b0-4ea4-b2ba-9b4501dd5912        1004     0.0         0.0   \n",
       "2  5cf68c8e-0b7a-4b73-ad4f-015c7a20fb5a        1004     1.0         1.0   \n",
       "3  fb188ae2-2173-4137-9236-19a137a402c2        1004     3.0         3.0   \n",
       "4  19a3e9ea-fce1-40b7-9457-2618970beb7b        1004     1.0         1.0   \n",
       "\n",
       "   tremor  \n",
       "0     1.0  \n",
       "1     0.0  \n",
       "2     1.0  \n",
       "3     3.0  \n",
       "4     1.0  "
      ]
     },
     "execution_count": 10,
     "metadata": {},
     "output_type": "execute_result"
    }
   ],
   "source": [
    "# view head of labels\n",
    "labels.head()"
   ]
  },
  {
   "cell_type": "code",
   "execution_count": 69,
   "metadata": {},
   "outputs": [
    {
     "data": {
      "text/html": [
       "<div>\n",
       "<style scoped>\n",
       "    .dataframe tbody tr th:only-of-type {\n",
       "        vertical-align: middle;\n",
       "    }\n",
       "\n",
       "    .dataframe tbody tr th {\n",
       "        vertical-align: top;\n",
       "    }\n",
       "\n",
       "    .dataframe thead th {\n",
       "        text-align: right;\n",
       "    }\n",
       "</style>\n",
       "<table border=\"1\" class=\"dataframe\">\n",
       "  <thead>\n",
       "    <tr style=\"text-align: right;\">\n",
       "      <th></th>\n",
       "      <th>measurement_id</th>\n",
       "      <th>subject_id</th>\n",
       "      <th>on_off</th>\n",
       "      <th>dyskinesia</th>\n",
       "      <th>tremor</th>\n",
       "    </tr>\n",
       "  </thead>\n",
       "  <tbody>\n",
       "    <tr>\n",
       "      <th>0</th>\n",
       "      <td>10005cf2-85cf-47ad-8441-f15fb1509f69</td>\n",
       "      <td>1000</td>\n",
       "      <td>0</td>\n",
       "      <td>0</td>\n",
       "      <td>1</td>\n",
       "    </tr>\n",
       "    <tr>\n",
       "      <th>1</th>\n",
       "      <td>f25cfad6-1835-4f78-9192-d28581ffa4d8</td>\n",
       "      <td>1000</td>\n",
       "      <td>0</td>\n",
       "      <td>0</td>\n",
       "      <td>1</td>\n",
       "    </tr>\n",
       "    <tr>\n",
       "      <th>2</th>\n",
       "      <td>5cf1a9ff-b13c-457b-a661-ccd617842027</td>\n",
       "      <td>1000</td>\n",
       "      <td>0</td>\n",
       "      <td>0</td>\n",
       "      <td>1</td>\n",
       "    </tr>\n",
       "    <tr>\n",
       "      <th>3</th>\n",
       "      <td>f55eac42-c808-447b-9b9b-02c10cee579f</td>\n",
       "      <td>1000</td>\n",
       "      <td>1</td>\n",
       "      <td>0</td>\n",
       "      <td>1</td>\n",
       "    </tr>\n",
       "    <tr>\n",
       "      <th>4</th>\n",
       "      <td>541740be-1158-4169-becb-5ca4926ecd0c</td>\n",
       "      <td>1000</td>\n",
       "      <td>1</td>\n",
       "      <td>0</td>\n",
       "      <td>1</td>\n",
       "    </tr>\n",
       "    <tr>\n",
       "      <th>...</th>\n",
       "      <td>...</td>\n",
       "      <td>...</td>\n",
       "      <td>...</td>\n",
       "      <td>...</td>\n",
       "      <td>...</td>\n",
       "    </tr>\n",
       "    <tr>\n",
       "      <th>347</th>\n",
       "      <td>a4172c4b-0611-477c-a064-4b4a2e662430</td>\n",
       "      <td>1041</td>\n",
       "      <td>0</td>\n",
       "      <td>0</td>\n",
       "      <td>0</td>\n",
       "    </tr>\n",
       "    <tr>\n",
       "      <th>348</th>\n",
       "      <td>c5528c15-8b36-40a1-9399-5d06e3605adb</td>\n",
       "      <td>1041</td>\n",
       "      <td>0</td>\n",
       "      <td>0</td>\n",
       "      <td>0</td>\n",
       "    </tr>\n",
       "    <tr>\n",
       "      <th>349</th>\n",
       "      <td>e92949ae-699a-43b9-8446-f89962be88a6</td>\n",
       "      <td>1041</td>\n",
       "      <td>1</td>\n",
       "      <td>0</td>\n",
       "      <td>0</td>\n",
       "    </tr>\n",
       "    <tr>\n",
       "      <th>350</th>\n",
       "      <td>dabc0365-44e3-44d4-bc34-eb2c0c1cb287</td>\n",
       "      <td>1041</td>\n",
       "      <td>1</td>\n",
       "      <td>0</td>\n",
       "      <td>0</td>\n",
       "    </tr>\n",
       "    <tr>\n",
       "      <th>351</th>\n",
       "      <td>8c05ba7a-b893-4d7b-a27c-c10525a31d8f</td>\n",
       "      <td>1041</td>\n",
       "      <td>1</td>\n",
       "      <td>0</td>\n",
       "      <td>0</td>\n",
       "    </tr>\n",
       "  </tbody>\n",
       "</table>\n",
       "<p>352 rows × 5 columns</p>\n",
       "</div>"
      ],
      "text/plain": [
       "                           measurement_id  subject_id  on_off  dyskinesia  \\\n",
       "0    10005cf2-85cf-47ad-8441-f15fb1509f69        1000       0           0   \n",
       "1    f25cfad6-1835-4f78-9192-d28581ffa4d8        1000       0           0   \n",
       "2    5cf1a9ff-b13c-457b-a661-ccd617842027        1000       0           0   \n",
       "3    f55eac42-c808-447b-9b9b-02c10cee579f        1000       1           0   \n",
       "4    541740be-1158-4169-becb-5ca4926ecd0c        1000       1           0   \n",
       "..                                    ...         ...     ...         ...   \n",
       "347  a4172c4b-0611-477c-a064-4b4a2e662430        1041       0           0   \n",
       "348  c5528c15-8b36-40a1-9399-5d06e3605adb        1041       0           0   \n",
       "349  e92949ae-699a-43b9-8446-f89962be88a6        1041       1           0   \n",
       "350  dabc0365-44e3-44d4-bc34-eb2c0c1cb287        1041       1           0   \n",
       "351  8c05ba7a-b893-4d7b-a27c-c10525a31d8f        1041       1           0   \n",
       "\n",
       "     tremor  \n",
       "0         1  \n",
       "1         1  \n",
       "2         1  \n",
       "3         1  \n",
       "4         1  \n",
       "..      ...  \n",
       "347       0  \n",
       "348       0  \n",
       "349       0  \n",
       "350       0  \n",
       "351       0  \n",
       "\n",
       "[352 rows x 5 columns]"
      ]
     },
     "execution_count": 69,
     "metadata": {},
     "output_type": "execute_result"
    }
   ],
   "source": [
    "pd.read_csv('Data/BEATPDchallenge/data_labels-cispd/CIS-PD_Ancillary_Data_IDs_Labels.csv')"
   ]
  },
  {
   "cell_type": "code",
   "execution_count": 372,
   "metadata": {},
   "outputs": [
    {
     "data": {
      "text/html": [
       "<div>\n",
       "<style scoped>\n",
       "    .dataframe tbody tr th:only-of-type {\n",
       "        vertical-align: middle;\n",
       "    }\n",
       "\n",
       "    .dataframe tbody tr th {\n",
       "        vertical-align: top;\n",
       "    }\n",
       "\n",
       "    .dataframe thead th {\n",
       "        text-align: right;\n",
       "    }\n",
       "</style>\n",
       "<table border=\"1\" class=\"dataframe\">\n",
       "  <thead>\n",
       "    <tr style=\"text-align: right;\">\n",
       "      <th></th>\n",
       "      <th>measurement_id</th>\n",
       "      <th>subject_id</th>\n",
       "      <th>on_off</th>\n",
       "      <th>dyskinesia</th>\n",
       "      <th>tremor</th>\n",
       "    </tr>\n",
       "  </thead>\n",
       "  <tbody>\n",
       "    <tr>\n",
       "      <th>0</th>\n",
       "      <td>cc7b822c-e310-46f0-a8ea-98c95fdb67a1</td>\n",
       "      <td>1004</td>\n",
       "      <td>1.0</td>\n",
       "      <td>1.0</td>\n",
       "      <td>1.0</td>\n",
       "    </tr>\n",
       "    <tr>\n",
       "      <th>1</th>\n",
       "      <td>5163afe8-a6b0-4ea4-b2ba-9b4501dd5912</td>\n",
       "      <td>1004</td>\n",
       "      <td>0.0</td>\n",
       "      <td>0.0</td>\n",
       "      <td>0.0</td>\n",
       "    </tr>\n",
       "    <tr>\n",
       "      <th>2</th>\n",
       "      <td>5cf68c8e-0b7a-4b73-ad4f-015c7a20fb5a</td>\n",
       "      <td>1004</td>\n",
       "      <td>1.0</td>\n",
       "      <td>1.0</td>\n",
       "      <td>1.0</td>\n",
       "    </tr>\n",
       "    <tr>\n",
       "      <th>3</th>\n",
       "      <td>fb188ae2-2173-4137-9236-19a137a402c2</td>\n",
       "      <td>1004</td>\n",
       "      <td>3.0</td>\n",
       "      <td>3.0</td>\n",
       "      <td>3.0</td>\n",
       "    </tr>\n",
       "    <tr>\n",
       "      <th>4</th>\n",
       "      <td>19a3e9ea-fce1-40b7-9457-2618970beb7b</td>\n",
       "      <td>1004</td>\n",
       "      <td>1.0</td>\n",
       "      <td>1.0</td>\n",
       "      <td>1.0</td>\n",
       "    </tr>\n",
       "  </tbody>\n",
       "</table>\n",
       "</div>"
      ],
      "text/plain": [
       "                         measurement_id  subject_id  on_off  dyskinesia  \\\n",
       "0  cc7b822c-e310-46f0-a8ea-98c95fdb67a1        1004     1.0         1.0   \n",
       "1  5163afe8-a6b0-4ea4-b2ba-9b4501dd5912        1004     0.0         0.0   \n",
       "2  5cf68c8e-0b7a-4b73-ad4f-015c7a20fb5a        1004     1.0         1.0   \n",
       "3  fb188ae2-2173-4137-9236-19a137a402c2        1004     3.0         3.0   \n",
       "4  19a3e9ea-fce1-40b7-9457-2618970beb7b        1004     1.0         1.0   \n",
       "\n",
       "   tremor  \n",
       "0     1.0  \n",
       "1     0.0  \n",
       "2     1.0  \n",
       "3     3.0  \n",
       "4     1.0  "
      ]
     },
     "execution_count": 372,
     "metadata": {},
     "output_type": "execute_result"
    }
   ],
   "source": [
    "labels.head()"
   ]
  },
  {
   "cell_type": "code",
   "execution_count": 391,
   "metadata": {},
   "outputs": [
    {
     "data": {
      "text/html": [
       "<div>\n",
       "<style scoped>\n",
       "    .dataframe tbody tr th:only-of-type {\n",
       "        vertical-align: middle;\n",
       "    }\n",
       "\n",
       "    .dataframe tbody tr th {\n",
       "        vertical-align: top;\n",
       "    }\n",
       "\n",
       "    .dataframe thead th {\n",
       "        text-align: right;\n",
       "    }\n",
       "</style>\n",
       "<table border=\"1\" class=\"dataframe\">\n",
       "  <thead>\n",
       "    <tr style=\"text-align: right;\">\n",
       "      <th></th>\n",
       "      <th>measurement_id</th>\n",
       "      <th>subject_id</th>\n",
       "      <th>on_off</th>\n",
       "      <th>dyskinesia</th>\n",
       "      <th>tremor</th>\n",
       "    </tr>\n",
       "  </thead>\n",
       "  <tbody>\n",
       "    <tr>\n",
       "      <th>0</th>\n",
       "      <td>cc7b822c-e310-46f0-a8ea-98c95fdb67a1</td>\n",
       "      <td>1004</td>\n",
       "      <td>1.0</td>\n",
       "      <td>1.0</td>\n",
       "      <td>1.0</td>\n",
       "    </tr>\n",
       "    <tr>\n",
       "      <th>1</th>\n",
       "      <td>5163afe8-a6b0-4ea4-b2ba-9b4501dd5912</td>\n",
       "      <td>1004</td>\n",
       "      <td>0.0</td>\n",
       "      <td>0.0</td>\n",
       "      <td>0.0</td>\n",
       "    </tr>\n",
       "    <tr>\n",
       "      <th>2</th>\n",
       "      <td>5cf68c8e-0b7a-4b73-ad4f-015c7a20fb5a</td>\n",
       "      <td>1004</td>\n",
       "      <td>1.0</td>\n",
       "      <td>1.0</td>\n",
       "      <td>1.0</td>\n",
       "    </tr>\n",
       "    <tr>\n",
       "      <th>3</th>\n",
       "      <td>fb188ae2-2173-4137-9236-19a137a402c2</td>\n",
       "      <td>1004</td>\n",
       "      <td>3.0</td>\n",
       "      <td>3.0</td>\n",
       "      <td>3.0</td>\n",
       "    </tr>\n",
       "    <tr>\n",
       "      <th>4</th>\n",
       "      <td>19a3e9ea-fce1-40b7-9457-2618970beb7b</td>\n",
       "      <td>1004</td>\n",
       "      <td>1.0</td>\n",
       "      <td>1.0</td>\n",
       "      <td>1.0</td>\n",
       "    </tr>\n",
       "    <tr>\n",
       "      <th>...</th>\n",
       "      <td>...</td>\n",
       "      <td>...</td>\n",
       "      <td>...</td>\n",
       "      <td>...</td>\n",
       "      <td>...</td>\n",
       "    </tr>\n",
       "    <tr>\n",
       "      <th>1853</th>\n",
       "      <td>ab618d1f-eb27-442b-a3b7-e438fde70db1</td>\n",
       "      <td>1051</td>\n",
       "      <td>0.0</td>\n",
       "      <td>NaN</td>\n",
       "      <td>NaN</td>\n",
       "    </tr>\n",
       "    <tr>\n",
       "      <th>1854</th>\n",
       "      <td>25e8bca2-051f-4216-826b-810bbddfdb2e</td>\n",
       "      <td>1051</td>\n",
       "      <td>0.0</td>\n",
       "      <td>NaN</td>\n",
       "      <td>NaN</td>\n",
       "    </tr>\n",
       "    <tr>\n",
       "      <th>1855</th>\n",
       "      <td>7f7bb7b9-8656-40dd-94f9-9d546ac75722</td>\n",
       "      <td>1051</td>\n",
       "      <td>0.0</td>\n",
       "      <td>NaN</td>\n",
       "      <td>NaN</td>\n",
       "    </tr>\n",
       "    <tr>\n",
       "      <th>1856</th>\n",
       "      <td>c29c2d91-c294-4655-a2a7-d4c1f456c3a2</td>\n",
       "      <td>1051</td>\n",
       "      <td>1.0</td>\n",
       "      <td>NaN</td>\n",
       "      <td>NaN</td>\n",
       "    </tr>\n",
       "    <tr>\n",
       "      <th>1857</th>\n",
       "      <td>a97693fd-7024-4e68-b00a-3700306c7bc8</td>\n",
       "      <td>1051</td>\n",
       "      <td>2.0</td>\n",
       "      <td>NaN</td>\n",
       "      <td>NaN</td>\n",
       "    </tr>\n",
       "  </tbody>\n",
       "</table>\n",
       "<p>1858 rows × 5 columns</p>\n",
       "</div>"
      ],
      "text/plain": [
       "                            measurement_id  subject_id  on_off  dyskinesia  \\\n",
       "0     cc7b822c-e310-46f0-a8ea-98c95fdb67a1        1004     1.0         1.0   \n",
       "1     5163afe8-a6b0-4ea4-b2ba-9b4501dd5912        1004     0.0         0.0   \n",
       "2     5cf68c8e-0b7a-4b73-ad4f-015c7a20fb5a        1004     1.0         1.0   \n",
       "3     fb188ae2-2173-4137-9236-19a137a402c2        1004     3.0         3.0   \n",
       "4     19a3e9ea-fce1-40b7-9457-2618970beb7b        1004     1.0         1.0   \n",
       "...                                    ...         ...     ...         ...   \n",
       "1853  ab618d1f-eb27-442b-a3b7-e438fde70db1        1051     0.0         NaN   \n",
       "1854  25e8bca2-051f-4216-826b-810bbddfdb2e        1051     0.0         NaN   \n",
       "1855  7f7bb7b9-8656-40dd-94f9-9d546ac75722        1051     0.0         NaN   \n",
       "1856  c29c2d91-c294-4655-a2a7-d4c1f456c3a2        1051     1.0         NaN   \n",
       "1857  a97693fd-7024-4e68-b00a-3700306c7bc8        1051     2.0         NaN   \n",
       "\n",
       "      tremor  \n",
       "0        1.0  \n",
       "1        0.0  \n",
       "2        1.0  \n",
       "3        3.0  \n",
       "4        1.0  \n",
       "...      ...  \n",
       "1853     NaN  \n",
       "1854     NaN  \n",
       "1855     NaN  \n",
       "1856     NaN  \n",
       "1857     NaN  \n",
       "\n",
       "[1858 rows x 5 columns]"
      ]
     },
     "execution_count": 391,
     "metadata": {},
     "output_type": "execute_result"
    }
   ],
   "source": [
    "labels"
   ]
  },
  {
   "cell_type": "code",
   "execution_count": 378,
   "metadata": {},
   "outputs": [
    {
     "data": {
      "text/html": [
       "<div>\n",
       "<style scoped>\n",
       "    .dataframe tbody tr th:only-of-type {\n",
       "        vertical-align: middle;\n",
       "    }\n",
       "\n",
       "    .dataframe tbody tr th {\n",
       "        vertical-align: top;\n",
       "    }\n",
       "\n",
       "    .dataframe thead th {\n",
       "        text-align: right;\n",
       "    }\n",
       "</style>\n",
       "<table border=\"1\" class=\"dataframe\">\n",
       "  <thead>\n",
       "    <tr style=\"text-align: right;\">\n",
       "      <th></th>\n",
       "      <th>measurement_id</th>\n",
       "      <th>subject_id</th>\n",
       "      <th>on_off</th>\n",
       "      <th>dyskinesia</th>\n",
       "      <th>tremor</th>\n",
       "    </tr>\n",
       "  </thead>\n",
       "  <tbody>\n",
       "    <tr>\n",
       "      <th>0</th>\n",
       "      <td>cc7b822c-e310-46f0-a8ea-98c95fdb67a1</td>\n",
       "      <td>1004</td>\n",
       "      <td>1.0</td>\n",
       "      <td>1.0</td>\n",
       "      <td>1.0</td>\n",
       "    </tr>\n",
       "    <tr>\n",
       "      <th>1</th>\n",
       "      <td>5cf68c8e-0b7a-4b73-ad4f-015c7a20fb5a</td>\n",
       "      <td>1004</td>\n",
       "      <td>1.0</td>\n",
       "      <td>1.0</td>\n",
       "      <td>1.0</td>\n",
       "    </tr>\n",
       "    <tr>\n",
       "      <th>2</th>\n",
       "      <td>fb188ae2-2173-4137-9236-19a137a402c2</td>\n",
       "      <td>1004</td>\n",
       "      <td>3.0</td>\n",
       "      <td>3.0</td>\n",
       "      <td>3.0</td>\n",
       "    </tr>\n",
       "    <tr>\n",
       "      <th>3</th>\n",
       "      <td>19a3e9ea-fce1-40b7-9457-2618970beb7b</td>\n",
       "      <td>1004</td>\n",
       "      <td>1.0</td>\n",
       "      <td>1.0</td>\n",
       "      <td>1.0</td>\n",
       "    </tr>\n",
       "    <tr>\n",
       "      <th>4</th>\n",
       "      <td>e2973da8-1250-4a7c-98d5-b165570a8aeb</td>\n",
       "      <td>1004</td>\n",
       "      <td>1.0</td>\n",
       "      <td>1.0</td>\n",
       "      <td>1.0</td>\n",
       "    </tr>\n",
       "    <tr>\n",
       "      <th>...</th>\n",
       "      <td>...</td>\n",
       "      <td>...</td>\n",
       "      <td>...</td>\n",
       "      <td>...</td>\n",
       "      <td>...</td>\n",
       "    </tr>\n",
       "    <tr>\n",
       "      <th>1852</th>\n",
       "      <td>ab618d1f-eb27-442b-a3b7-e438fde70db1</td>\n",
       "      <td>1051</td>\n",
       "      <td>0.0</td>\n",
       "      <td>NaN</td>\n",
       "      <td>NaN</td>\n",
       "    </tr>\n",
       "    <tr>\n",
       "      <th>1853</th>\n",
       "      <td>25e8bca2-051f-4216-826b-810bbddfdb2e</td>\n",
       "      <td>1051</td>\n",
       "      <td>0.0</td>\n",
       "      <td>NaN</td>\n",
       "      <td>NaN</td>\n",
       "    </tr>\n",
       "    <tr>\n",
       "      <th>1854</th>\n",
       "      <td>7f7bb7b9-8656-40dd-94f9-9d546ac75722</td>\n",
       "      <td>1051</td>\n",
       "      <td>0.0</td>\n",
       "      <td>NaN</td>\n",
       "      <td>NaN</td>\n",
       "    </tr>\n",
       "    <tr>\n",
       "      <th>1855</th>\n",
       "      <td>c29c2d91-c294-4655-a2a7-d4c1f456c3a2</td>\n",
       "      <td>1051</td>\n",
       "      <td>1.0</td>\n",
       "      <td>NaN</td>\n",
       "      <td>NaN</td>\n",
       "    </tr>\n",
       "    <tr>\n",
       "      <th>1856</th>\n",
       "      <td>a97693fd-7024-4e68-b00a-3700306c7bc8</td>\n",
       "      <td>1051</td>\n",
       "      <td>2.0</td>\n",
       "      <td>NaN</td>\n",
       "      <td>NaN</td>\n",
       "    </tr>\n",
       "  </tbody>\n",
       "</table>\n",
       "<p>1857 rows × 5 columns</p>\n",
       "</div>"
      ],
      "text/plain": [
       "                            measurement_id  subject_id  on_off  dyskinesia  \\\n",
       "0     cc7b822c-e310-46f0-a8ea-98c95fdb67a1        1004     1.0         1.0   \n",
       "1     5cf68c8e-0b7a-4b73-ad4f-015c7a20fb5a        1004     1.0         1.0   \n",
       "2     fb188ae2-2173-4137-9236-19a137a402c2        1004     3.0         3.0   \n",
       "3     19a3e9ea-fce1-40b7-9457-2618970beb7b        1004     1.0         1.0   \n",
       "4     e2973da8-1250-4a7c-98d5-b165570a8aeb        1004     1.0         1.0   \n",
       "...                                    ...         ...     ...         ...   \n",
       "1852  ab618d1f-eb27-442b-a3b7-e438fde70db1        1051     0.0         NaN   \n",
       "1853  25e8bca2-051f-4216-826b-810bbddfdb2e        1051     0.0         NaN   \n",
       "1854  7f7bb7b9-8656-40dd-94f9-9d546ac75722        1051     0.0         NaN   \n",
       "1855  c29c2d91-c294-4655-a2a7-d4c1f456c3a2        1051     1.0         NaN   \n",
       "1856  a97693fd-7024-4e68-b00a-3700306c7bc8        1051     2.0         NaN   \n",
       "\n",
       "      tremor  \n",
       "0        1.0  \n",
       "1        1.0  \n",
       "2        3.0  \n",
       "3        1.0  \n",
       "4        1.0  \n",
       "...      ...  \n",
       "1852     NaN  \n",
       "1853     NaN  \n",
       "1854     NaN  \n",
       "1855     NaN  \n",
       "1856     NaN  \n",
       "\n",
       "[1857 rows x 5 columns]"
      ]
     },
     "execution_count": 378,
     "metadata": {},
     "output_type": "execute_result"
    }
   ],
   "source": [
    "labels.drop(1).reset_index(drop=True)"
   ]
  },
  {
   "cell_type": "code",
   "execution_count": 725,
   "metadata": {},
   "outputs": [
    {
     "data": {
      "text/html": [
       "<div>\n",
       "<style scoped>\n",
       "    .dataframe tbody tr th:only-of-type {\n",
       "        vertical-align: middle;\n",
       "    }\n",
       "\n",
       "    .dataframe tbody tr th {\n",
       "        vertical-align: top;\n",
       "    }\n",
       "\n",
       "    .dataframe thead th {\n",
       "        text-align: right;\n",
       "    }\n",
       "</style>\n",
       "<table border=\"1\" class=\"dataframe\">\n",
       "  <thead>\n",
       "    <tr style=\"text-align: right;\">\n",
       "      <th></th>\n",
       "      <th>measurement_id</th>\n",
       "      <th>subject_id</th>\n",
       "      <th>on_off</th>\n",
       "      <th>dyskinesia</th>\n",
       "      <th>tremor</th>\n",
       "    </tr>\n",
       "  </thead>\n",
       "  <tbody>\n",
       "    <tr>\n",
       "      <th>80</th>\n",
       "      <td>ff0e52c1-b449-4bb4-8465-e35535c1c667</td>\n",
       "      <td>1004</td>\n",
       "      <td>1.0</td>\n",
       "      <td>0</td>\n",
       "      <td>0.0</td>\n",
       "    </tr>\n",
       "    <tr>\n",
       "      <th>81</th>\n",
       "      <td>a373e8f0-8c0f-4660-b4ba-ea87bea012fe</td>\n",
       "      <td>1004</td>\n",
       "      <td>1.0</td>\n",
       "      <td>1</td>\n",
       "      <td>0.0</td>\n",
       "    </tr>\n",
       "    <tr>\n",
       "      <th>82</th>\n",
       "      <td>0dfd3d96-7b99-4522-9bf5-c39046fcf096</td>\n",
       "      <td>1006</td>\n",
       "      <td>1.0</td>\n",
       "      <td></td>\n",
       "      <td>1.0</td>\n",
       "    </tr>\n",
       "    <tr>\n",
       "      <th>83</th>\n",
       "      <td>f8946f25-022a-47ba-9868-69120c94b0f2</td>\n",
       "      <td>1006</td>\n",
       "      <td>0.0</td>\n",
       "      <td></td>\n",
       "      <td>1.0</td>\n",
       "    </tr>\n",
       "    <tr>\n",
       "      <th>84</th>\n",
       "      <td>27c0e5f5-d68f-4c42-a327-1bce67d5d394</td>\n",
       "      <td>1006</td>\n",
       "      <td>0.0</td>\n",
       "      <td></td>\n",
       "      <td>1.0</td>\n",
       "    </tr>\n",
       "  </tbody>\n",
       "</table>\n",
       "</div>"
      ],
      "text/plain": [
       "                          measurement_id  subject_id  on_off dyskinesia  \\\n",
       "80  ff0e52c1-b449-4bb4-8465-e35535c1c667        1004     1.0          0   \n",
       "81  a373e8f0-8c0f-4660-b4ba-ea87bea012fe        1004     1.0          1   \n",
       "82  0dfd3d96-7b99-4522-9bf5-c39046fcf096        1006     1.0              \n",
       "83  f8946f25-022a-47ba-9868-69120c94b0f2        1006     0.0              \n",
       "84  27c0e5f5-d68f-4c42-a327-1bce67d5d394        1006     0.0              \n",
       "\n",
       "    tremor  \n",
       "80     0.0  \n",
       "81     0.0  \n",
       "82     1.0  \n",
       "83     1.0  \n",
       "84     1.0  "
      ]
     },
     "execution_count": 725,
     "metadata": {},
     "output_type": "execute_result"
    }
   ],
   "source": [
    "tst_df = labels[80:85]\n",
    "tst_df = tst_df.replace(np.nan, 'nan', regex=True)\n",
    "tst_df"
   ]
  },
  {
   "cell_type": "code",
   "execution_count": 726,
   "metadata": {},
   "outputs": [
    {
     "data": {
      "text/plain": [
       "array([0.0, 1.0, ''], dtype=object)"
      ]
     },
     "execution_count": 726,
     "metadata": {},
     "output_type": "execute_result"
    }
   ],
   "source": [
    "classes = tst_df['dyskinesia'].unique()\n",
    "classes"
   ]
  },
  {
   "cell_type": "code",
   "execution_count": 727,
   "metadata": {},
   "outputs": [],
   "source": [
    "tst_dict = {k : [] for k in classes}"
   ]
  },
  {
   "cell_type": "code",
   "execution_count": 786,
   "metadata": {},
   "outputs": [],
   "source": [
    "for index, row in tst_df.iterrows():\n",
    "    tst_dict['foo'][row['dyskinesia']].append(pd.read_csv('Data/BEATPDchallenge/training_data-cispd/'\n",
    "                                                 + '/' + row.measurement_id +\n",
    "        '.csv').drop(columns='Timestamp'))"
   ]
  },
  {
   "cell_type": "markdown",
   "metadata": {},
   "source": [
    "## real thang"
   ]
  },
  {
   "cell_type": "code",
   "execution_count": 1069,
   "metadata": {},
   "outputs": [],
   "source": [
    "class Training_Dataset(data.Dataset):\n",
    "    \n",
    "    '''train_ts_dir: Directory to training time series.\n",
    "    \n",
    "    train_label_dir: Directory to training labels.\n",
    "    \n",
    "    ancil_ts_dir: Directory to ancillary time series.\n",
    "    \n",
    "    ancil_label_dir: Directory to ancillary labels.\n",
    "    \n",
    "    sort_by: subject_id, on_off, dyskinesia, tremor.\n",
    "    \n",
    "    combine_ancil = True: Combine training and ancillary data.\n",
    "    \n",
    "    dataset_name: 'CIS' or 'REAL'\n",
    "    \n",
    "    '''\n",
    "    \n",
    "    def __init__(self, train_ts_dir, train_label_dir,\n",
    "                 ancil_ts_dir, ancil_label_dir, sort_by,dataset_name,\n",
    "                 combine_ancil=True):\n",
    "        self.train_ts_dir = train_ts_dir\n",
    "        self.ancil_ts_dir = ancil_ts_dir\n",
    "        self.sort_by = sort_by\n",
    "        self.dataset_name = dataset_name\n",
    "        self.train_labels = pd.read_csv(train_label_dir).replace(np.nan, 'nan', regex=True)\n",
    "        self.ancil_labels = pd.read_csv(ancil_label_dir).replace(np.nan, 'nan', regex=True)\n",
    "        self.classes = self.train_labels[f'{self.sort_by}'].unique()\n",
    "        self.combine_ancil = combine_ancil\n",
    "        self.spec_arrays = []\n",
    "        self.spec_labels = []\n",
    "        self.issue_measurements = []\n",
    "        if self.combine_ancil:\n",
    "            self.train_labels = pd.concat([self.train_labels, \n",
    "                                           self.ancil_labels]).reset_index(drop=True)\n",
    "        if self.dataset_name == 'CIS' and self.include_gyro == True:\n",
    "            raise NameError('CIS data has no gyroscope data.')\n",
    "        \n",
    "    def CIS_dictionary(self): # Create CIS dictionary\n",
    "        self.data_dict = {k : [] for k in self.classes}\n",
    "        for index, row in tqdm(self.train_labels.iterrows(), 'Creating Dictionary',\n",
    "                               total=self.train_labels.shape[0],position=0, leave=True):\n",
    "            try: # look for measurement in training\n",
    "                self.data_dict[row[self.sort_by]].append((pd.read_csv(\n",
    "                    self.train_ts_dir + '/' + row.measurement_id +\n",
    "                    '.csv').drop(columns='Timestamp'),row.measurement_id,row.subject_id,\n",
    "                                                                   row.on_off,row.dyskinesia,\n",
    "                                                                  row.tremor))\n",
    "            except: # look for measurement in ancillary\n",
    "                self.data_dict[row[self.sort_by]].append((pd.read_csv(\n",
    "                    self.ancil_ts_dir + '/' + row.measurement_id +\n",
    "                    '.csv').drop(columns='Timestamp'),row.measurement_id,row.subject_id,\n",
    "                                                                   row.on_off,row.dyskinesia,\n",
    "                                                                  row.tremor))\n",
    "        return self.data_dict\n",
    "    \n",
    "    def REAL_dictionary(self):\n",
    "        self.data_dict = {k : [] for k in self.classes}\n",
    "        for index, row in tqdm(self.train_labels.iterrows(), 'Creating Dictionary',\n",
    "                               total=self.train_labels.shape[0],position=0, leave=True):\n",
    "            try: # Look in train data\n",
    "                try: # smartphone_accelerometer\n",
    "                    self.data_dict[row[self.sort_by]].append([pd.read_csv(\n",
    "                        self.train_ts_dir + 'smartphone_accelerometer/' + row.measurement_id +\n",
    "                        '.csv').drop(columns='t'),row.measurement_id,row.subject_id,\n",
    "                                                                   row.on_off,row.dyskinesia,\n",
    "                                                                  row.tremor])\n",
    "                except:\n",
    "                    pass\n",
    "                try: #smartwatch_accelerometer\n",
    "                    try:#attach gyroscope data\n",
    "                        self.data_dict[row[self.sort_by]].append([pd.read_csv(\n",
    "                            self.train_ts_dir + 'smartwatch_accelerometer/' + row.measurement_id +\n",
    "                            '.csv').drop(columns='t'),row.measurement_id,row.subject_id,\n",
    "                                                                       row.on_off,\n",
    "                                                                       row.dyskinesia,row.tremor,\n",
    "                                                                       pd.read_csv(\n",
    "                                                                           self.train_ts_dir+\n",
    "                                                                           'smartwatch_gyroscope/'+\n",
    "                                                                           row.measurement_id+\n",
    "                                                                           '.csv').drop(columns='t')])\n",
    "                    except:#no gyroscope data\n",
    "                        self.data_dict[row[self.sort_by]].append([pd.read_csv(\n",
    "                            self.train_ts_dir + 'smartwatch_accelerometer/' + row.measurement_id +\n",
    "                            '.csv').drop(columns='t'),row.measurement_id,row.subject_id,\n",
    "                                                                       row.on_off,\n",
    "                                                                       row.dyskinesia,\n",
    "                                                                       row.tremor])\n",
    "                except:\n",
    "                    raise\n",
    "\n",
    "            except: # look in ancil data\n",
    "                try:# smartphone_accelerometer\n",
    "                    self.data_dict[row[self.sort_by]].append([pd.read_csv(\n",
    "                        self.ancil_ts_dir + 'smartphone_accelerometer/' + row.measurement_id +\n",
    "                        '.csv').drop(columns='t'),row.measurement_id,row.subject_id,\n",
    "                                                                   row.on_off,row.dyskinesia,\n",
    "                                                                  row.tremor])\n",
    "                except:\n",
    "                    pass\n",
    "                \n",
    "                try: #smartwatch_accelerometer\n",
    "                    try:#attach gyroscope data\n",
    "                        self.data_dict[row[self.sort_by]].append([pd.read_csv(\n",
    "                            self.ancil_ts_dir + 'smartwatch_accelerometer/' + row.measurement_id +\n",
    "                            '.csv').drop(columns='t'),row.measurement_id,row.subject_id,\n",
    "                                                                       row.on_off,\n",
    "                                                                       row.dyskinesia,row.tremor,\n",
    "                                                                       pd.read_csv(\n",
    "                                                                           self.train_ts_dir+\n",
    "                                                                           'smartwatch_gyroscope/'+\n",
    "                                                                           row.measurement_id+\n",
    "                                                                           '.csv').drop(columns='t')])\n",
    "                    except:#no gyroscope data\n",
    "                        self.data_dict[row[self.sort_by]].append([pd.read_csv(\n",
    "                            self.ancil_ts_dir + 'smartwatch_accelerometer/' + row.measurement_id +\n",
    "                            '.csv').drop(columns='t'),row.measurement_id,row.subject_id,\n",
    "                                                                       row.on_off,\n",
    "                                                                       row.dyskinesia,\n",
    "                                                                       row.tremor])\n",
    "                except:\n",
    "                    self.issue_measurements.append(row.measurement_id)\n",
    "        return self.data_dict\n",
    "\n",
    "    def pad_ts(self,ts):\n",
    "        if ts.index[-1] < 60000:\n",
    "            pad_size = 60000 - ts.index[-1]\n",
    "            pre_pad_size = pad_size//2\n",
    "            post_pad_size = pad_size//2\n",
    "            pre_pad = pd.DataFrame(np.zeros((pre_pad_size, 3)),columns=['X', 'Y', 'Z'])\n",
    "            post_pad = pd.DataFrame(np.zeros((post_pad_size, 3)),columns=['X', 'Y', 'Z'])\n",
    "            measurement = pd.concat([ts, post_pad]).reset_index(drop=True)\n",
    "            measurement = pd.concat([pre_pad, ts]).reset_index(drop=True)\n",
    "        elif ts.index[-1] > 60000:\n",
    "            ts = ts[:60001]\n",
    "        return ts\n",
    "    \n",
    "    def center_n(self,ts, n=10):\n",
    "        n_rows = int(n/(.02/60))\n",
    "        center = ts.index[-1]//2\n",
    "        return ts[center-(n_rows//2):center+(n_rows//2)]\n",
    "\n",
    "    def magnitude(self,ts):\n",
    "        if self.dataset_name == 'CIS':\n",
    "            for _ in ts:\n",
    "                ts['R'] = np.sqrt(ts['X']**2 + ts['Y']**2 + ts['Z']**2)\n",
    "        else:\n",
    "            for _ in ts:\n",
    "                ts['R'] = np.sqrt(ts['x']**2 + ts['y']**2 + ts['z']**2)  \n",
    "        return ts\n",
    "\n",
    "    def zero_center_R(self,ts):\n",
    "        R = ts.R.to_numpy()\n",
    "        @jit(nopython=True)\n",
    "        def R_zero_center(R):\n",
    "            mean = np.mean(R)\n",
    "            for item in R:\n",
    "                item = item - mean\n",
    "            return R\n",
    "        ts.R = R\n",
    "        return ts\n",
    "\n",
    "    def spec_array(self,ts, n_mels = 128, hop_length = 256, sample_rate = 0.02,\n",
    "                 n_fft = 2048, fmin = 0, fmax = 0.01, power=1.0):\n",
    "        fig, ax = plt.subplots(figsize=(12, 5))\n",
    "        mel_spec = librosa.feature.melspectrogram(np.array(ts.R), n_fft=n_fft, hop_length=hop_length,\n",
    "                                              n_mels=n_mels, sr=sample_rate, power=power,\n",
    "                                              fmin=fmin, fmax=fmax)\n",
    "        mel_spec_db = librosa.amplitude_to_db(mel_spec, ref=np.max)\n",
    "        librosa.display.specshow(mel_spec_db, x_axis='time',  y_axis='mel', \n",
    "                             sr=sample_rate, hop_length=hop_length,fmin=fmin, fmax=fmax, ax=ax)\n",
    "        fig.patch.set_visible(False)\n",
    "        ax.axis('off')\n",
    "        fig.canvas.draw()\n",
    "        X = np.array(fig.canvas.renderer.buffer_rgba())\n",
    "        plt.close()\n",
    "        return X\n",
    "    \n",
    "    def spec_prep(self,spec_arr, cropx=670, cropy=272):\n",
    "        y,x,c = spec_arr.shape\n",
    "        startx = x//2 - cropx//2\n",
    "        starty = y//2 - cropy//2    \n",
    "        spec_arr = spec_arr[starty:starty+cropy, startx:startx+cropx, :]\n",
    "        spec_arr = spec_arr[:,:,:3]\n",
    "        return spec_arr\n",
    "    \n",
    "    def standard_preprocessing(self,ts):\n",
    "        ts = self.pad_ts(ts)\n",
    "        ts = self.center_n(ts)\n",
    "        ts = self.magnitude(ts)\n",
    "        ts = self.zero_center_R(ts)\n",
    "        arr = self.spec_array(ts)\n",
    "        arr = self.spec_prep(arr)\n",
    "        return arr\n",
    "        \n",
    "    def create_dictionary(self):\n",
    "        '''Create CIS or REAL dictionary. Dictionary keys are classes specified to sort by.\n",
    "        Elements are lists of measurements.\n",
    "        Items in lists are lists of: [time series, measurement_id, subject_id, on_off,\n",
    "        dyskinesia, tremor, gyroscope_df (when available)].\n",
    "        These nested lists were chosen over tuples since a mutable data type\n",
    "        was needed to preprocess the data further.'''\n",
    "        if self.dataset_name == 'CIS':\n",
    "            self.data_dict = self.CIS_dictionary()\n",
    "        elif self.dataset_name == 'REAL':\n",
    "            self.data_dict = self.REAL_dictionary()\n",
    "        else:\n",
    "            raise NameError('Specify dataset name as REAL or CIS')\n",
    "        print(f'Issue with {len(self.issue_measurements)} measurements',\n",
    "              'enter self.issue_measuements for a list of them.')\n",
    "        \n",
    "    \n",
    "    def run_preprocessing(self):\n",
    "        for key, tup_list in tqdm(self.data_dict.items(),'Preprocessing Data',\n",
    "                                 total=len(self.data_dict),position=0, leave=True):\n",
    "            for i, tup in enumerate(tup_list):\n",
    "                tup_list[i][0] = self.standard_preprocessing(tup[0])\n",
    "                tup_list[i] = tuple(tup)\n",
    "        for key, tup_list in tqdm(self.data_dict.items(), 'Forming Data Lists'):\n",
    "            for i, tup in enumerate(tup_list):\n",
    "                self.spec_arrays.append(tup[0])\n",
    "                self.spec_labels.extend([key])\n",
    "                \n",
    "    def torch_transform(self, spec, label):\n",
    "        spec = TF.to_tensor(spec)\n",
    "        label = torch.tensor(label)\n",
    "        return spec, label\n",
    "        \n",
    "    def __getitem__(self, index):\n",
    "        spec = self.spec_arrays[index]\n",
    "        label = self.spec_labels[index]\n",
    "        spec, label = self.torch_transform(spec, label)\n",
    "        return spec, label\n",
    "    \n",
    "    def __len__(self):\n",
    "        return len(self.spec_arrays)   "
   ]
  },
  {
   "cell_type": "code",
   "execution_count": 1078,
   "metadata": {},
   "outputs": [],
   "source": [
    "train_ts_dir = 'Data/BEATPDchallenge/BeatPDRealPDupdated/real-pd.training_data_updated/training_data/'\n",
    "train_label_dir = 'Data/BEATPDchallenge/data_labels-realpd/REAL-PD_Training_Data_IDs_Labels.csv'\n",
    "ancil_ts_dir = 'Data/BEATPDchallenge/BeatPDRealPDupdated/real-pd.ancillary_data_updated/ancillary_data/'\n",
    "ancil_label_dir = 'Data/BEATPDchallenge/data_labels-realpd/REAL-PD_Ancillary_Data_IDs_Labels.csv'\n",
    "sort_by = 'tremor'\n",
    "dataset_name = 'CIS'"
   ]
  },
  {
   "cell_type": "code",
   "execution_count": 1074,
   "metadata": {},
   "outputs": [],
   "source": [
    "dataset = Training_Dataset(train_ts_dir=train_ts_dir, train_label_dir=train_label_dir,\n",
    "                 ancil_ts_dir=ancil_ts_dir, ancil_label_dir=ancil_label_dir,\n",
    "                 sort_by=sort_by, dataset_name=dataset_name)"
   ]
  },
  {
   "cell_type": "code",
   "execution_count": 1037,
   "metadata": {},
   "outputs": [],
   "source": [
    "tst_labels = pd.read_csv('Data/BEATPDchallenge/data_labels-realpd/REAL-PD_Training_Data_IDs_Labels.csv')"
   ]
  },
  {
   "cell_type": "code",
   "execution_count": 1075,
   "metadata": {},
   "outputs": [
    {
     "name": "stderr",
     "output_type": "stream",
     "text": [
      "Creating Dictionary: 100%|██████████| 1081/1081 [02:14<00:00,  8.02it/s]"
     ]
    },
    {
     "name": "stdout",
     "output_type": "stream",
     "text": [
      "Issue with 119 measurements enter Training_Dataset.issue_measuements for a list of them.\n"
     ]
    },
    {
     "name": "stderr",
     "output_type": "stream",
     "text": [
      "\n"
     ]
    }
   ],
   "source": [
    "import warnings\n",
    "warnings.filterwarnings(\"ignore\")\n",
    "dataset.create_dictionary()\n",
    "warnings.filterwarnings(\"default\")"
   ]
  },
  {
   "cell_type": "code",
   "execution_count": 1076,
   "metadata": {},
   "outputs": [
    {
     "name": "stderr",
     "output_type": "stream",
     "text": [
      "Preprocessing Data: 100%|██████████| 5/5 [01:44<00:00, 20.92s/it]\n",
      "\n",
      "Forming Data Lists: 100%|██████████| 5/5 [00:00<00:00, 4340.13it/s]\n"
     ]
    }
   ],
   "source": [
    "import warnings\n",
    "warnings.filterwarnings(\"ignore\")\n",
    "dataset.run_preprocessing()\n",
    "warnings.filterwarnings(\"default\")"
   ]
  },
  {
   "cell_type": "code",
   "execution_count": null,
   "metadata": {},
   "outputs": [],
   "source": [
    "dataset.data_dict"
   ]
  },
  {
   "cell_type": "code",
   "execution_count": 1077,
   "metadata": {},
   "outputs": [
    {
     "data": {
      "text/plain": [
       "(272, 670, 3)"
      ]
     },
     "execution_count": 1077,
     "metadata": {},
     "output_type": "execute_result"
    }
   ],
   "source": [
    "dataset.data_dict[1][1][0].shape"
   ]
  },
  {
   "cell_type": "code",
   "execution_count": 1032,
   "metadata": {},
   "outputs": [
    {
     "data": {
      "text/plain": [
       "['0c310608-1a32-4b09-b164-375d93ddb2aa',\n",
       " '40a76c3e-0f0e-48e0-9874-28f89130f463',\n",
       " '8759a9a9-8aab-4df1-a61e-924bf74d84f2',\n",
       " '26f04641-84c6-4dbb-b55b-033dc6ffe0a1',\n",
       " 'f2be41e3-cc0e-4f0c-8374-52ba00c8e9ab',\n",
       " 'a88408dd-3dfe-4b94-b665-41a2ccf93a85',\n",
       " '24f13d0e-8d09-4062-988b-0c2af0d74846',\n",
       " 'e2ee04d3-6697-464c-9dbf-dde0fd9be9a0',\n",
       " '6ffba116-3422-4f5c-9ba5-6fa9499d0988',\n",
       " '2daabd36-1707-473b-93f1-265ce6b7999e',\n",
       " 'e487fc20-66c9-4568-9c61-30f1b331a5c3',\n",
       " '3051e77d-46ab-44e7-b03d-8b74573c5c97',\n",
       " '80aba7c8-6994-45df-a022-ef61c735c72f',\n",
       " '6caa0bd0-7e68-4281-9dd9-1070786ef026',\n",
       " '763116a6-7386-4dcb-97dc-8cad9a6bb0f2',\n",
       " 'e655453f-9df0-411f-a633-2dd8144d3327',\n",
       " 'f2256f75-ddbd-49a2-a3de-0069905e11f7',\n",
       " '287ddbef-b7bf-4ff4-b4e9-eaa128bbbe9c',\n",
       " '8c3d0e87-f2c5-4924-ae88-5af7bcf9ef63',\n",
       " '0dfdbb5a-218d-4b37-829e-1be00ad88ad4',\n",
       " '34ea6fef-caad-4a82-9c16-029a93dfbdfc',\n",
       " '1f1f26c4-e728-415a-b0f2-adad0242e5dc',\n",
       " '7a5f4c7a-4fdb-4d49-9ed5-fe50ed6e28a6',\n",
       " 'b5e8437a-73ae-4484-b6f4-aaa32c4e539e',\n",
       " '3ea73ab8-f1d1-4389-bd17-0f9c554f5419',\n",
       " '972e8656-1917-41e0-85a6-6d791c501460',\n",
       " 'c4a8527f-c62e-4d2d-bdf3-bac924da987e',\n",
       " '0863cba3-dff4-40b3-a690-bfee1023c137',\n",
       " 'ff1db97b-8505-4c47-9a71-eb7f595519b0',\n",
       " 'bc0a8345-1ef1-4faf-b1b0-41f86d4f1bab',\n",
       " '59a73268-4e1a-4426-bf73-0fb22f58fa1a',\n",
       " '15837ec4-8ab6-45c9-92ed-5d54e5bff02c',\n",
       " '1bce9da5-c3c7-44c0-949c-72312890d260',\n",
       " '57779b31-49e8-4c91-9e00-693e1140de85',\n",
       " 'a5be6e50-4a46-46e7-9b4e-13eb73531e0f',\n",
       " '528ddcd4-800d-4b18-a086-74cf26fd9a48',\n",
       " 'a6954a91-338b-4523-9e4a-5e69a8fac206',\n",
       " '00a49337-386c-4de3-a220-4cf3c0d20a7d',\n",
       " '0741fc7f-d709-4879-b9b7-1ca56e5a5021',\n",
       " 'f4e4eed4-5470-4058-8737-8f75abe0853c',\n",
       " 'f8986b3d-d77c-4c5e-af03-d2adc2c3e022',\n",
       " '7a5aaf70-b362-4cab-8ad2-10a5edfc4a39',\n",
       " '658a2398-532b-4d0c-b8fb-67764ec58e9c',\n",
       " 'e429fc2d-08db-4b81-b9c5-865f1fe790eb',\n",
       " '2898aa29-f72e-4742-bbdc-2d6af815f490',\n",
       " '19e35072-c573-4030-a5b3-4b9ff118f99d',\n",
       " '0a58d095-9030-4587-b5a8-359ac80d8813',\n",
       " '27eccfc4-e329-4695-aee8-6d706b247191',\n",
       " 'de24ad87-99a0-44f9-a98f-dbb5d5e2873c',\n",
       " '38e4c46d-17ac-4445-815f-0489996e80b9',\n",
       " 'e9e16344-54ee-4fbc-8b5f-0e7565c2de36',\n",
       " 'e3eb82b8-1ea1-434a-aca7-645bcc5b5fec',\n",
       " 'dfc96cd3-a11c-476a-a2e1-838596d84862',\n",
       " 'c50831c7-fe05-4383-bf2a-defef56440fe',\n",
       " '73c60aa4-abe1-41b8-9a21-9754b7204c0c',\n",
       " 'd9ea3f6f-a8b3-45c9-ad5a-761dd209960f',\n",
       " 'd4474cb5-c1c2-497d-921e-3ec7abe02f86',\n",
       " 'ed80c2a5-135e-4f90-9649-b5a6db5aa399',\n",
       " 'bbf6954e-9256-45ac-923e-4792bdb99274',\n",
       " '3df62bed-f6f4-47cb-8066-c1d63aad2888',\n",
       " 'd02209e2-ccb6-43ca-88a4-5053c51312f9',\n",
       " '7e5db015-a0ad-4898-af48-8dbb927aad28',\n",
       " '80a009f0-1461-4dfb-b735-7748ba78d3f9',\n",
       " 'e8a35db7-db21-4a1f-a278-caad9cf481fb',\n",
       " '44675ca1-13bf-4384-9dc5-ef24d3008f01',\n",
       " '0def73b4-8f18-4e15-8b31-cc7119c046b3',\n",
       " '0db55f4b-d580-4e3c-a55c-8f76a5321af1',\n",
       " 'd417f853-2455-4038-9086-fe7832ff9010',\n",
       " '086cfab2-8021-44d8-8e18-b8c9c873ad72',\n",
       " '481b49b5-18ab-49e1-9d54-2414f2bd285c',\n",
       " '63ea80d6-f89c-40dc-bcfc-8063eae2fef1',\n",
       " '534cae45-5f6e-43e9-9a4d-dd3572d9c746',\n",
       " '781220d5-179f-4eae-b74e-a52eea1e9806',\n",
       " '3aa71855-e28d-4afc-bdb8-f457ede13be6',\n",
       " 'a4b30e09-e663-4634-9d8e-2bcb733c4f04',\n",
       " '9b7fb594-b20a-47fa-a579-159dc2dbeb9f',\n",
       " 'b6cb31c2-69cb-48ae-89d7-2a03a1ed7839',\n",
       " '342d0026-bdc0-4b27-a9d4-80a98d5d4f16',\n",
       " 'adbb8c04-d20f-4e8e-97cb-cefc5e0927d5',\n",
       " '881a7fc1-c70b-49e8-b703-6f5d5d886222',\n",
       " '09920c5d-0c9b-42e9-9b1c-9e853bd4fe50',\n",
       " '7202317c-5623-4466-9de1-2042f111dee4',\n",
       " 'c7b4e3e2-ef34-4e84-95fa-f86aef445ddd',\n",
       " '97849423-2a3f-45a6-9d79-8894eb47ca0e',\n",
       " 'aca0718e-e574-4f3d-8cb3-01812201b88c',\n",
       " 'f68cfd51-ee72-4587-9e48-e243bcf55622',\n",
       " '6998e6fa-88c6-4e2f-acca-0583a89b393c',\n",
       " '9d74f5e1-241a-4f4a-bc6f-2779edf410cd',\n",
       " 'b1a5fd6d-db9c-4870-a3c0-943e0656d112',\n",
       " '321f893b-00e6-4c55-b247-52cb1f828e37',\n",
       " 'd43197ed-1c8f-4889-ac50-b1e2488c4e87',\n",
       " '03392645-b3a3-46fa-9d59-5d6d12032703',\n",
       " '1e1774be-d001-416a-ba0d-4ec0cf2981ce',\n",
       " '9f13e050-68c5-4c7a-944d-6ffc061547db',\n",
       " 'e0a00b7f-58a8-4a13-bc6e-1ab4df2e9bb2',\n",
       " 'fa47e8b1-b8de-434b-b8fe-babe9ecac82a',\n",
       " '00ff67dd-2bd7-41f7-acf6-ae809cc46120',\n",
       " '87cb9df4-013c-467c-8d04-591bf9bc1605',\n",
       " '4a01d8a9-4552-429d-8997-248ae2c8b48f',\n",
       " '6fbfdb01-71de-4f33-9158-6fc3076c9e81',\n",
       " 'a363a94b-0380-41fc-b938-35107a5febb4',\n",
       " 'aba340ff-f515-4555-9911-b9ffcde5af04',\n",
       " '397e7093-a75d-4de3-b1e7-440d1348e00c',\n",
       " '3ad8e880-2877-443b-8c1f-03832c1f375b',\n",
       " 'c4f9e449-ad8e-4c36-acd0-d904db3ebe28',\n",
       " '6545d215-9661-4cca-aceb-f59d52b577c9',\n",
       " '69b22a62-3d41-4d2b-9da1-9a466f6218a5',\n",
       " '622887f2-5081-4bd1-a6cd-348660e7d84f',\n",
       " '8664d58d-3b6f-45b6-aadd-7c9dba1c44b8',\n",
       " '1ce4107d-8975-44d5-b5fd-addb2a9d6bdb',\n",
       " '19762c1b-f33a-4f8e-b0e4-6b4f6d38f312',\n",
       " '25e1e50b-af9c-47d0-b3e2-734fc9836d56',\n",
       " '3d247c75-ac8f-447d-8d98-9405ca2b6fc8',\n",
       " '94ed6f87-7583-47cb-870c-41355354987f',\n",
       " '74299bd6-151c-4fae-8fad-564b4af2dca1',\n",
       " 'd678d036-c5cf-43e6-ae7b-c63eecbc2c1b',\n",
       " '7348e840-304c-45a8-86d0-8e6d975ccf35',\n",
       " '0b6fe925-fd2d-406e-8cf8-299e3e948792']"
      ]
     },
     "execution_count": 1032,
     "metadata": {},
     "output_type": "execute_result"
    }
   ],
   "source": [
    "dataset.issue_measurements"
   ]
  },
  {
   "cell_type": "code",
   "execution_count": 1045,
   "metadata": {},
   "outputs": [
    {
     "data": {
      "text/html": [
       "<div>\n",
       "<style scoped>\n",
       "    .dataframe tbody tr th:only-of-type {\n",
       "        vertical-align: middle;\n",
       "    }\n",
       "\n",
       "    .dataframe tbody tr th {\n",
       "        vertical-align: top;\n",
       "    }\n",
       "\n",
       "    .dataframe thead th {\n",
       "        text-align: right;\n",
       "    }\n",
       "</style>\n",
       "<table border=\"1\" class=\"dataframe\">\n",
       "  <thead>\n",
       "    <tr style=\"text-align: right;\">\n",
       "      <th></th>\n",
       "      <th>measurement_id</th>\n",
       "      <th>subject_id</th>\n",
       "      <th>on_off</th>\n",
       "      <th>dyskinesia</th>\n",
       "      <th>tremor</th>\n",
       "    </tr>\n",
       "  </thead>\n",
       "  <tbody>\n",
       "    <tr>\n",
       "      <th>82</th>\n",
       "      <td>80aba7c8-6994-45df-a022-ef61c735c72f</td>\n",
       "      <td>hbv038</td>\n",
       "      <td>1</td>\n",
       "      <td>nan</td>\n",
       "      <td>2</td>\n",
       "    </tr>\n",
       "  </tbody>\n",
       "</table>\n",
       "</div>"
      ],
      "text/plain": [
       "                          measurement_id subject_id on_off dyskinesia tremor\n",
       "82  80aba7c8-6994-45df-a022-ef61c735c72f     hbv038      1        nan      2"
      ]
     },
     "execution_count": 1045,
     "metadata": {},
     "output_type": "execute_result"
    }
   ],
   "source": [
    "tst_labels.loc[tst_labels.measurement_id == '80aba7c8-6994-45df-a022-ef61c735c72f']"
   ]
  },
  {
   "cell_type": "code",
   "execution_count": 1043,
   "metadata": {},
   "outputs": [],
   "source": [
    "tst_labels= pd.read_csv(train_label_dir).replace(np.nan, 'nan', regex=True)"
   ]
  },
  {
   "cell_type": "code",
   "execution_count": 1044,
   "metadata": {},
   "outputs": [
    {
     "data": {
      "text/html": [
       "<div>\n",
       "<style scoped>\n",
       "    .dataframe tbody tr th:only-of-type {\n",
       "        vertical-align: middle;\n",
       "    }\n",
       "\n",
       "    .dataframe tbody tr th {\n",
       "        vertical-align: top;\n",
       "    }\n",
       "\n",
       "    .dataframe thead th {\n",
       "        text-align: right;\n",
       "    }\n",
       "</style>\n",
       "<table border=\"1\" class=\"dataframe\">\n",
       "  <thead>\n",
       "    <tr style=\"text-align: right;\">\n",
       "      <th></th>\n",
       "      <th>measurement_id</th>\n",
       "      <th>subject_id</th>\n",
       "      <th>on_off</th>\n",
       "      <th>dyskinesia</th>\n",
       "      <th>tremor</th>\n",
       "    </tr>\n",
       "  </thead>\n",
       "  <tbody>\n",
       "  </tbody>\n",
       "</table>\n",
       "</div>"
      ],
      "text/plain": [
       "Empty DataFrame\n",
       "Columns: [measurement_id, subject_id, on_off, dyskinesia, tremor]\n",
       "Index: []"
      ]
     },
     "execution_count": 1044,
     "metadata": {},
     "output_type": "execute_result"
    }
   ],
   "source": [
    "tst_labels.loc[tst_labels.measurement_id == '7348e840-304c-45a8-86d0-8e6d975ccf35']"
   ]
  },
  {
   "cell_type": "code",
   "execution_count": 978,
   "metadata": {},
   "outputs": [
    {
     "data": {
      "text/html": [
       "<div>\n",
       "<style scoped>\n",
       "    .dataframe tbody tr th:only-of-type {\n",
       "        vertical-align: middle;\n",
       "    }\n",
       "\n",
       "    .dataframe tbody tr th {\n",
       "        vertical-align: top;\n",
       "    }\n",
       "\n",
       "    .dataframe thead th {\n",
       "        text-align: right;\n",
       "    }\n",
       "</style>\n",
       "<table border=\"1\" class=\"dataframe\">\n",
       "  <thead>\n",
       "    <tr style=\"text-align: right;\">\n",
       "      <th></th>\n",
       "      <th>measurement_id</th>\n",
       "      <th>subject_id</th>\n",
       "      <th>on_off</th>\n",
       "      <th>dyskinesia</th>\n",
       "      <th>tremor</th>\n",
       "    </tr>\n",
       "  </thead>\n",
       "  <tbody>\n",
       "    <tr>\n",
       "      <th>35</th>\n",
       "      <td>0c310608-1a32-4b09-b164-375d93ddb2aa</td>\n",
       "      <td>hbv013</td>\n",
       "      <td>0.0</td>\n",
       "      <td>0.0</td>\n",
       "      <td>0.0</td>\n",
       "    </tr>\n",
       "  </tbody>\n",
       "</table>\n",
       "</div>"
      ],
      "text/plain": [
       "                          measurement_id subject_id  on_off  dyskinesia  \\\n",
       "35  0c310608-1a32-4b09-b164-375d93ddb2aa     hbv013     0.0         0.0   \n",
       "\n",
       "    tremor  \n",
       "35     0.0  "
      ]
     },
     "execution_count": 978,
     "metadata": {},
     "output_type": "execute_result"
    }
   ],
   "source": [
    "tst_labels"
   ]
  },
  {
   "cell_type": "code",
   "execution_count": 947,
   "metadata": {},
   "outputs": [],
   "source": [
    "tst_dict = {k : [] for k in tst_labels.dyskinesia.unique()}"
   ]
  },
  {
   "cell_type": "code",
   "execution_count": 948,
   "metadata": {},
   "outputs": [
    {
     "name": "stderr",
     "output_type": "stream",
     "text": [
      "Creating Dictionary: 100%|██████████| 1/1 [00:00<00:00, 17.22it/s]\n"
     ]
    }
   ],
   "source": [
    "for index, row in tqdm(tst_labels.iterrows(), 'Creating Dictionary',\n",
    "                       total=tst_labels.shape[0],position=0, leave=True):# Look in train data\n",
    "    tst_dict[row['dyskinesia']].append((pd.read_csv(train_ts_dir + \n",
    "                                                               'smartphone_accelerometer/' +\n",
    "                                                               row.measurement_id +\n",
    "                                                               '.csv').drop(columns='t'),\n",
    "                                                   row.measurement_id,row.subject_id,\n",
    "                                                   row.on_off,row.dyskinesia,\n",
    "                                                   row.tremor))"
   ]
  },
  {
   "cell_type": "code",
   "execution_count": 776,
   "metadata": {},
   "outputs": [
    {
     "name": "stdout",
     "output_type": "stream",
     "text": [
      "cool\n"
     ]
    }
   ],
   "source": [
    "tstfoo = True\n",
    "\n",
    "if tstfoo:\n",
    "    print('cool')"
   ]
  },
  {
   "cell_type": "code",
   "execution_count": 781,
   "metadata": {},
   "outputs": [
    {
     "name": "stdout",
     "output_type": "stream",
     "text": [
      "yoooo\n"
     ]
    }
   ],
   "source": [
    "try:\n",
    "    try:\n",
    "        print(hooooo)\n",
    "    except:\n",
    "        raise\n",
    "except:\n",
    "    print('yoooo')"
   ]
  },
  {
   "cell_type": "markdown",
   "metadata": {},
   "source": [
    "# Magnitude"
   ]
  },
  {
   "cell_type": "code",
   "execution_count": 247,
   "metadata": {},
   "outputs": [],
   "source": [
    "#Creating new column in each df containing the magnitude\n",
    "\n",
    "for df in ts_0:\n",
    "    for _ in df:\n",
    "        df['R'] = np.sqrt(df['X']**2 + df['Y']**2 + df['Z']**2)\n",
    "        \n",
    "for df in ts_1:\n",
    "    for _ in df:\n",
    "        df['R'] = np.sqrt(df['X']**2 + df['Y']**2 + df['Z']**2)\n",
    "        \n",
    "for df in ts_2:\n",
    "    for _ in df:\n",
    "        df['R'] = np.sqrt(df['X']**2 + df['Y']**2 + df['Z']**2)\n",
    "        \n",
    "for df in ts_3:\n",
    "    for _ in df:\n",
    "        df['R'] = np.sqrt(df['X']**2 + df['Y']**2 + df['Z']**2)\n",
    "        \n",
    "for df in ts_4:\n",
    "    for _ in df:\n",
    "        df['R'] = np.sqrt(df['X']**2 + df['Y']**2 + df['Z']**2)"
   ]
  },
  {
   "cell_type": "code",
   "execution_count": 252,
   "metadata": {},
   "outputs": [
    {
     "data": {
      "text/plain": [
       "(30000,)"
      ]
     },
     "execution_count": 252,
     "metadata": {},
     "output_type": "execute_result"
    }
   ],
   "source": [
    "np.array(ts_0[0].R).shape"
   ]
  },
  {
   "cell_type": "code",
   "execution_count": 38,
   "metadata": {},
   "outputs": [
    {
     "data": {
      "text/plain": [
       "<matplotlib.axes._subplots.AxesSubplot at 0x1a26a021d0>"
      ]
     },
     "execution_count": 38,
     "metadata": {},
     "output_type": "execute_result"
    },
    {
     "data": {
      "image/png": "[encoded data removed]",
      "text/plain": [
       "<Figure size 432x288 with 1 Axes>"
      ]
     },
     "metadata": {
      "needs_background": "light"
     },
     "output_type": "display_data"
    }
   ],
   "source": [
    "ts_0[9].R.plot(ylim=(-5,5), title='Sample from Medication State 4',linewidth=0.5)"
   ]
  },
  {
   "cell_type": "code",
   "execution_count": 39,
   "metadata": {},
   "outputs": [
    {
     "data": {
      "image/png": "[encoded data removed]",
      "text/plain": [
       "<Figure size 864x360 with 1 Axes>"
      ]
     },
     "metadata": {
      "needs_background": "light"
     },
     "output_type": "display_data"
    }
   ],
   "source": [
    "# Plot the magnitude of a time series in each class\n",
    "\n",
    "fig, ax = plt.subplots(figsize = (12,5), )\n",
    "\n",
    "\n",
    "ts_0[3].R.plot(ylim = (0,7),ax=ax, alpha = 0.6,\n",
    "               title='Magnitudes of Sample in Each Class', linewidth=0.5)\n",
    "ts_1[3].R.plot(ylim = (0,7),ax=ax, alpha = 0.6, color='b',linewidth=0.5)\n",
    "ts_2[3].R.plot(ylim = (0,7),ax=ax, alpha = 0.6, color='g',linewidth=0.5)\n",
    "ts_3[3].R.plot(ylim = (0,7),ax=ax, alpha = 0.6, color='c',linewidth=0.5)\n",
    "ts_4[3].R.plot(ylim = (0,7),ax=ax, alpha = 0.6, color='m',linewidth=0.5)\n",
    "plt.legend((0,1,2,3,4), loc = 'upper left', fontsize='large', framealpha=1, facecolor='w' );"
   ]
  },
  {
   "cell_type": "code",
   "execution_count": 40,
   "metadata": {},
   "outputs": [],
   "source": [
    "def R_to_numpy(ts):\n",
    "    Id = ts.measurement_id\n",
    "    ts = ts.R.to_numpy()\n",
    "    ts = (ts, Id)\n",
    "    return ts"
   ]
  },
  {
   "cell_type": "code",
   "execution_count": 41,
   "metadata": {},
   "outputs": [],
   "source": [
    "for i, ts in enumerate(ts_0):\n",
    "    ts_0[i] = R_to_numpy(ts)\n",
    "    \n",
    "for i, ts in enumerate(ts_1):\n",
    "    ts_1[i] = R_to_numpy(ts)\n",
    "    \n",
    "for i, ts in enumerate(ts_2):\n",
    "    ts_2[i] = R_to_numpy(ts)\n",
    "    \n",
    "for i, ts in enumerate(ts_3):\n",
    "    ts_3[i] = R_to_numpy(ts)\n",
    "    \n",
    "for i, ts in enumerate(ts_4):\n",
    "    ts_4[i] = R_to_numpy(ts)"
   ]
  },
  {
   "cell_type": "code",
   "execution_count": 42,
   "metadata": {},
   "outputs": [
    {
     "data": {
      "text/plain": [
       "array([0.98580755, 0.98479695, 0.98436759, ..., 0.98726906, 0.98683571,\n",
       "       0.98825097])"
      ]
     },
     "execution_count": 42,
     "metadata": {},
     "output_type": "execute_result"
    }
   ],
   "source": [
    "ts_0[0][0]"
   ]
  },
  {
   "cell_type": "code",
   "execution_count": 43,
   "metadata": {},
   "outputs": [],
   "source": [
    "@jit(nopython=True)\n",
    "def R_zero_center(ts):\n",
    "    mean = np.mean(ts[0])\n",
    "    for i, R in enumerate(ts[0]):\n",
    "        ts[0][i] = R - mean\n",
    "    return ts"
   ]
  },
  {
   "cell_type": "code",
   "execution_count": 44,
   "metadata": {},
   "outputs": [],
   "source": [
    "for i, ts in enumerate(ts_0):\n",
    "    ts_0[i] = R_zero_center(ts)\n",
    "    \n",
    "for i, ts in enumerate(ts_1):\n",
    "    ts_1[i] = R_zero_center(ts)\n",
    "    \n",
    "for i, ts in enumerate(ts_2):\n",
    "    ts_2[i] = R_zero_center(ts)\n",
    "    \n",
    "for i, ts in enumerate(ts_3):\n",
    "    ts_3[i] = R_zero_center(ts)\n",
    "\n",
    "for i, ts in enumerate(ts_4):\n",
    "    ts_4[i] = R_zero_center(ts)"
   ]
  },
  {
   "cell_type": "code",
   "execution_count": 45,
   "metadata": {},
   "outputs": [
    {
     "data": {
      "text/plain": [
       "(array([-0.00130296, -0.00231357, -0.00274292, ...,  0.00015855,\n",
       "        -0.00027481,  0.00114046]),\n",
       " '5163afe8-a6b0-4ea4-b2ba-9b4501dd5912')"
      ]
     },
     "execution_count": 45,
     "metadata": {},
     "output_type": "execute_result"
    }
   ],
   "source": [
    "ts_0[0]"
   ]
  },
  {
   "cell_type": "code",
   "execution_count": 46,
   "metadata": {},
   "outputs": [
    {
     "data": {
      "image/png": "[encoded data removed]",
      "text/plain": [
       "<Figure size 864x360 with 1 Axes>"
      ]
     },
     "metadata": {
      "needs_background": "light"
     },
     "output_type": "display_data"
    }
   ],
   "source": [
    "# Plot the magnitude of a time series in each class\n",
    "\n",
    "fig, ax = plt.subplots(figsize = (12,5), )\n",
    "\n",
    "\n",
    "plt.plot(ts_0[3][0],alpha=0.6)\n",
    "plt.plot(ts_1[3][0],alpha=0.6)\n",
    "plt.plot(ts_2[3][0],alpha=0.6)\n",
    "plt.plot(ts_3[3][0],alpha=0.6)\n",
    "plt.plot(ts_4[3][0],alpha=0.6)\n",
    "plt.legend((0,1,2,3,4), loc = 'upper left', fontsize='large', framealpha=1, facecolor='w' );"
   ]
  },
  {
   "cell_type": "markdown",
   "metadata": {},
   "source": [
    "# Creating Spectrogram Dataset"
   ]
  },
  {
   "cell_type": "code",
   "execution_count": 47,
   "metadata": {},
   "outputs": [],
   "source": [
    "# number of mel frequency bands\n",
    "n_mels = 128\n",
    "hop_length = 256 \n",
    "sample_rate = 0.02\n",
    "n_fft = 2048  # frame length\n",
    "\n",
    "fmin = 0        \n",
    "fmax = 0.01# sample_rate/2"
   ]
  },
  {
   "cell_type": "code",
   "execution_count": 67,
   "metadata": {},
   "outputs": [
    {
     "ename": "AttributeError",
     "evalue": "'RendererAgg' object has no attribute 'buffer_rgb'",
     "output_type": "error",
     "traceback": [
      "\u001b[0;31m---------------------------------------------------------------------------\u001b[0m",
      "\u001b[0;31mAttributeError\u001b[0m                            Traceback (most recent call last)",
      "\u001b[0;32m<ipython-input-67-2d2f5883ee97>\u001b[0m in \u001b[0;36m<module>\u001b[0;34m\u001b[0m\n\u001b[1;32m     15\u001b[0m \u001b[0max\u001b[0m\u001b[0;34m.\u001b[0m\u001b[0maxis\u001b[0m\u001b[0;34m(\u001b[0m\u001b[0;34m'off'\u001b[0m\u001b[0;34m)\u001b[0m\u001b[0;34m\u001b[0m\u001b[0;34m\u001b[0m\u001b[0m\n\u001b[1;32m     16\u001b[0m \u001b[0mfig\u001b[0m\u001b[0;34m.\u001b[0m\u001b[0mcanvas\u001b[0m\u001b[0;34m.\u001b[0m\u001b[0mdraw\u001b[0m\u001b[0;34m(\u001b[0m\u001b[0;34m)\u001b[0m\u001b[0;34m\u001b[0m\u001b[0;34m\u001b[0m\u001b[0m\n\u001b[0;32m---> 17\u001b[0;31m \u001b[0mX\u001b[0m \u001b[0;34m=\u001b[0m \u001b[0mnp\u001b[0m\u001b[0;34m.\u001b[0m\u001b[0marray\u001b[0m\u001b[0;34m(\u001b[0m\u001b[0mfig\u001b[0m\u001b[0;34m.\u001b[0m\u001b[0mcanvas\u001b[0m\u001b[0;34m.\u001b[0m\u001b[0mrenderer\u001b[0m\u001b[0;34m.\u001b[0m\u001b[0mbuffer_rgb\u001b[0m\u001b[0;34m(\u001b[0m\u001b[0;34m)\u001b[0m\u001b[0;34m)\u001b[0m\u001b[0;34m\u001b[0m\u001b[0;34m\u001b[0m\u001b[0m\n\u001b[0m",
      "\u001b[0;31mAttributeError\u001b[0m: 'RendererAgg' object has no attribute 'buffer_rgb'"
     ]
    },
    {
     "data": {
      "image/png": "[encoded data removed]",
      "text/plain": [
       "<Figure size 864x360 with 1 Axes>"
      ]
     },
     "metadata": {
      "needs_background": "light"
     },
     "output_type": "display_data"
    }
   ],
   "source": [
    "x = ts_0[0][0]\n",
    "    \n",
    "fig, ax = plt.subplots( figsize=(12, 5))\n",
    "    \n",
    "mel_spec = librosa.feature.melspectrogram(x , n_fft=n_fft, hop_length=hop_length,\n",
    "                                          n_mels=n_mels, sr=sample_rate, power=1.0,\n",
    "                                          fmin=fmin, fmax=fmax)\n",
    "    \n",
    "mel_spec_db = librosa.amplitude_to_db(mel_spec, ref=np.max)\n",
    "    \n",
    "librosa.display.specshow(mel_spec_db, x_axis='time',  y_axis='mel', \n",
    "                         sr=sample_rate, hop_length=hop_length, \n",
    "                         fmin=fmin, fmax=fmax, ax=ax)\n",
    "fig.patch.set_visible(False)\n",
    "ax.axis('off')\n",
    "fig.canvas.draw()\n",
    "X = np.array(fig.canvas.renderer.buffer_rgba())\n",
    "plt.close()"
   ]
  },
  {
   "cell_type": "code",
   "execution_count": 68,
   "metadata": {},
   "outputs": [
    {
     "data": {
      "text/plain": [
       "(360, 864, 4)"
      ]
     },
     "execution_count": 68,
     "metadata": {},
     "output_type": "execute_result"
    }
   ],
   "source": [
    "X.shape"
   ]
  },
  {
   "cell_type": "code",
   "execution_count": 258,
   "metadata": {},
   "outputs": [],
   "source": [
    "    def spec_array(ts, n_mels = 128, hop_length = 256, sample_rate = 0.02,\n",
    "                 n_fft = 2048, fmin = 0, fmax = 0.01, power=1.0):\n",
    "        fig, ax = plt.subplots(figsize=(12, 5))\n",
    "        mel_spec = librosa.feature.melspectrogram(np.array(ts.R), n_fft=n_fft, hop_length=hop_length,\n",
    "                                              n_mels=n_mels, sr=sample_rate, power=power,\n",
    "                                              fmin=fmin, fmax=fmax)\n",
    "        mel_spec_db = librosa.amplitude_to_db(mel_spec, ref=np.max)\n",
    "        librosa.display.specshow(mel_spec_db, x_axis='time',  y_axis='mel', \n",
    "                             sr=sample_rate, hop_length=hop_length,fmin=fmin, fmax=fmax, ax=ax)\n",
    "        \n",
    "        fig.patch.set_visible(False)\n",
    "        ax.axis('off')\n",
    "        fig.canvas.draw()\n",
    "        X = np.array(fig.canvas.renderer.buffer_rgba())\n",
    "        plt.close()\n",
    "        return X"
   ]
  },
  {
   "cell_type": "code",
   "execution_count": 267,
   "metadata": {},
   "outputs": [],
   "source": [
    "X = spec_array(ts_0[0])"
   ]
  },
  {
   "cell_type": "code",
   "execution_count": 269,
   "metadata": {},
   "outputs": [],
   "source": [
    "def spec_prep(spec_arr, cropx=670, cropy=272):\n",
    "    y,x,c = spec_arr.shape\n",
    "    startx = x//2 - cropx//2\n",
    "    starty = y//2 - cropy//2    \n",
    "    spec_arr = spec_arr[starty:starty+cropy, startx:startx+cropx, :]\n",
    "    spec_arr = spec_arr[:,:,:3]\n",
    "    return spec_arr"
   ]
  },
  {
   "cell_type": "code",
   "execution_count": 271,
   "metadata": {},
   "outputs": [
    {
     "data": {
      "text/plain": [
       "(272, 670, 3)"
      ]
     },
     "execution_count": 271,
     "metadata": {},
     "output_type": "execute_result"
    }
   ],
   "source": [
    "spec_prep(X).shape"
   ]
  },
  {
   "cell_type": "code",
   "execution_count": 319,
   "metadata": {},
   "outputs": [
    {
     "data": {
      "text/plain": [
       "{1: [array([0., 0., 0., 0.]), array([0., 0., 0., 0.])],\n",
       " 2: [array([0., 0., 0., 0.]), array([0., 0., 0., 0.])]}"
      ]
     },
     "execution_count": 319,
     "metadata": {},
     "output_type": "execute_result"
    }
   ],
   "source": [
    "tst_dict = {1:[np.zeros(4),np.zeros(4)], 2: [np.zeros(4),np.zeros(4)]}\n",
    "tst_dict"
   ]
  },
  {
   "cell_type": "code",
   "execution_count": 320,
   "metadata": {},
   "outputs": [],
   "source": [
    "def foo_func(arr):\n",
    "    arr = np.reshape(arr,(2,2))\n",
    "    return arr"
   ]
  },
  {
   "cell_type": "code",
   "execution_count": 322,
   "metadata": {},
   "outputs": [
    {
     "name": "stdout",
     "output_type": "stream",
     "text": [
      "[array([0., 0., 0., 0.]), array([0., 0., 0., 0.])]\n",
      "[array([0., 0., 0., 0.]), array([0., 0., 0., 0.])]\n"
     ]
    }
   ],
   "source": [
    "for key, arr_list in tst_dict.items():\n",
    "    print(arr_list)\n",
    "        "
   ]
  },
  {
   "cell_type": "code",
   "execution_count": 305,
   "metadata": {},
   "outputs": [
    {
     "data": {
      "text/plain": [
       "array([[0., 0.],\n",
       "       [0., 0.]])"
      ]
     },
     "execution_count": 305,
     "metadata": {},
     "output_type": "execute_result"
    }
   ],
   "source": [
    "tst_dict[1][0]"
   ]
  },
  {
   "cell_type": "code",
   "execution_count": 318,
   "metadata": {},
   "outputs": [
    {
     "data": {
      "text/plain": [
       "dict_items([(1, [array([[0., 0.],\n",
       "       [0., 0.]]), array([[0., 0.],\n",
       "       [0., 0.]])]), (2, [array([[0., 0.],\n",
       "       [0., 0.]]), array([[0., 0.],\n",
       "       [0., 0.]])])])"
      ]
     },
     "execution_count": 318,
     "metadata": {},
     "output_type": "execute_result"
    }
   ],
   "source": [
    "tst_dict.items()"
   ]
  },
  {
   "cell_type": "code",
   "execution_count": 332,
   "metadata": {},
   "outputs": [
    {
     "data": {
      "text/plain": [
       "718"
      ]
     },
     "execution_count": 332,
     "metadata": {},
     "output_type": "execute_result"
    }
   ],
   "source": [
    "len(dataset.data_dict[4.0])"
   ]
  },
  {
   "cell_type": "code",
   "execution_count": 354,
   "metadata": {},
   "outputs": [
    {
     "ename": "AttributeError",
     "evalue": "'numpy.float64' object has no attribute 'isnan'",
     "output_type": "error",
     "traceback": [
      "\u001b[0;31m---------------------------------------------------------------------------\u001b[0m",
      "\u001b[0;31mAttributeError\u001b[0m                            Traceback (most recent call last)",
      "\u001b[0;32m<ipython-input-354-d8e6be3b910b>\u001b[0m in \u001b[0;36m<module>\u001b[0;34m\u001b[0m\n\u001b[0;32m----> 1\u001b[0;31m \u001b[0mlabels\u001b[0m\u001b[0;34m.\u001b[0m\u001b[0miloc\u001b[0m\u001b[0;34m[\u001b[0m\u001b[0;36m1853\u001b[0m\u001b[0;34m]\u001b[0m\u001b[0;34m.\u001b[0m\u001b[0mtremor\u001b[0m\u001b[0;34m.\u001b[0m\u001b[0misnan\u001b[0m\u001b[0;34m\u001b[0m\u001b[0;34m\u001b[0m\u001b[0m\n\u001b[0m",
      "\u001b[0;31mAttributeError\u001b[0m: 'numpy.float64' object has no attribute 'isnan'"
     ]
    }
   ],
   "source": [
    "labels.iloc[1853].tremor.isnan"
   ]
  },
  {
   "cell_type": "code",
   "execution_count": 355,
   "metadata": {},
   "outputs": [
    {
     "data": {
      "text/plain": [
       "True"
      ]
     },
     "execution_count": 355,
     "metadata": {},
     "output_type": "execute_result"
    }
   ],
   "source": [
    "np.isnan(labels.iloc[1853].tremor)"
   ]
  },
  {
   "cell_type": "code",
   "execution_count": 350,
   "metadata": {},
   "outputs": [
    {
     "data": {
      "text/plain": [
       "False"
      ]
     },
     "execution_count": 350,
     "metadata": {},
     "output_type": "execute_result"
    }
   ],
   "source": [
    "labels.iloc[1853].tremor == np.nan"
   ]
  },
  {
   "cell_type": "code",
   "execution_count": null,
   "metadata": {},
   "outputs": [],
   "source": []
  }
 ],
 "metadata": {
  "kernelspec": {
   "display_name": "Python 3",
   "language": "python",
   "name": "python3"
  },
  "language_info": {
   "codemirror_mode": {
    "name": "ipython",
    "version": 3
   },
   "file_extension": ".py",
   "mimetype": "text/x-python",
   "name": "python",
   "nbconvert_exporter": "python",
   "pygments_lexer": "ipython3",
   "version": "3.6.10"
  }
 },
 "nbformat": 4,
 "nbformat_minor": 2
}
